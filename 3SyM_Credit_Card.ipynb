{
 "cells": [
  {
   "cell_type": "markdown",
   "metadata": {
    "id": "WAEZhxwtaSMO",
    "colab_type": "text"
   },
   "source": [
    "# Presentation of the Data \n",
    "\n",
    "The data that we are going to use is coming from [study of UCI](https://archive.ics.uci.edu/ml/datasets/default+of+credit+card+clients) on [payment defaults](https://fr.wikipedia.org/wiki/D%C3%A9faut_de_paiement) at Taiwan"
   ]
  },
  {
   "cell_type": "markdown",
   "metadata": {
    "id": "E32rbk3tmQDd",
    "colab_type": "text"
   },
   "source": [
    "## Uploading the data\n",
    "\n",
    "Download the file that contains the data to study from the internet\n",
    "\n"
   ]
  },
  {
   "cell_type": "code",
   "execution_count": 2,
   "metadata": {
    "id": "bIEfyglImAQu",
    "colab_type": "code",
    "outputId": "222beaea-4d55-4c42-ca73-5a3b132ab7b6",
    "executionInfo": {
     "status": "ok",
     "timestamp": 1.574554156772E12,
     "user_tz": -60.0,
     "elapsed": 4215.0,
     "user": {
      "displayName": "THAY Daniel",
      "photoUrl": "",
      "userId": "08618153734985027049"
     }
    },
    "colab": {
     "base_uri": "https://localhost:8080/",
     "height": 277.0
    }
   },
   "outputs": [
    {
     "name": "stdout",
     "output_type": "stream",
     "text": [
      "--2019-11-24 00:09:14--  http://perso-etis.ensea.fr/picard/UCI_Credit_Card.csv\n",
      "Resolving perso-etis.ensea.fr (perso-etis.ensea.fr)... 193.51.45.246\n",
      "Connecting to perso-etis.ensea.fr (perso-etis.ensea.fr)|193.51.45.246|:80... connected.\n",
      "HTTP request sent, awaiting response... 301 Moved Permanently\n",
      "Location: https://perso-etis.ensea.fr//picard/UCI_Credit_Card.csv [following]\n",
      "--2019-11-24 00:09:15--  https://perso-etis.ensea.fr//picard/UCI_Credit_Card.csv\n",
      "Connecting to perso-etis.ensea.fr (perso-etis.ensea.fr)|193.51.45.246|:443... connected.\n",
      "HTTP request sent, awaiting response... 200 OK\n",
      "Length: 2862995 (2.7M) [text/csv]\n",
      "Saving to: ‘UCI_Credit_Card.csv.3’\n",
      "\n",
      "UCI_Credit_Card.csv 100%[===================>]   2.73M  3.76MB/s    in 0.7s    \n",
      "\n",
      "2019-11-24 00:09:16 (3.76 MB/s) - ‘UCI_Credit_Card.csv.3’ saved [2862995/2862995]\n",
      "\n"
     ]
    }
   ],
   "source": [
    "!wget http://perso-etis.ensea.fr/picard/UCI_Credit_Card.csv"
   ]
  },
  {
   "cell_type": "markdown",
   "metadata": {
    "id": "uB5Lz-qQXaQO",
    "colab_type": "text"
   },
   "source": [
    "## Data Exploration\n",
    "\n",
    "The downloaded file is of type [csv](https://fr.wikipedia.org/wiki/Comma-separated_values)\n",
    "\n",
    "We will display the first 5 lines of the file to find out:\n",
    "- If the first row contains the names of the columns or not\n",
    "- The separator used (comma, semicolon, tabulation ..)"
   ]
  },
  {
   "cell_type": "code",
   "execution_count": 3,
   "metadata": {
    "id": "yDXpRBsMXpL_",
    "colab_type": "code",
    "outputId": "e9fe9672-2e03-46be-aac1-58a2294bb137",
    "executionInfo": {
     "status": "ok",
     "timestamp": 1.574554156773E12,
     "user_tz": -60.0,
     "elapsed": 4202.0,
     "user": {
      "displayName": "THAY Daniel",
      "photoUrl": "",
      "userId": "08618153734985027049"
     }
    },
    "colab": {
     "base_uri": "https://localhost:8080/",
     "height": 124.0
    }
   },
   "outputs": [
    {
     "name": "stdout",
     "output_type": "stream",
     "text": [
      "\"ID\",\"LIMIT_BAL\",\"SEX\",\"EDUCATION\",\"MARRIAGE\",\"AGE\",\"PAY_0\",\"PAY_2\",\"PAY_3\",\"PAY_4\",\"PAY_5\",\"PAY_6\",\"BILL_AMT1\",\"BILL_AMT2\",\"BILL_AMT3\",\"BILL_AMT4\",\"BILL_AMT5\",\"BILL_AMT6\",\"PAY_AMT1\",\"PAY_AMT2\",\"PAY_AMT3\",\"PAY_AMT4\",\"PAY_AMT5\",\"PAY_AMT6\",\"default.payment.next.month\"\n",
      "1,20000,2,2,1,24,2,2,-1,-1,-2,-2,3913,3102,689,0,0,0,0,689,0,0,0,0,1\n",
      "2,120000,2,2,2,26,-1,2,0,0,0,2,2682,1725,2682,3272,3455,3261,0,1000,1000,1000,0,2000,1\n",
      "3,90000,2,2,2,34,0,0,0,0,0,0,29239,14027,13559,14331,14948,15549,1518,1500,1000,1000,1000,5000,0\n",
      "4,50000,2,2,1,37,0,0,0,0,0,0,46990,48233,49291,28314,28959,29547,2000,2019,1200,1100,1069,1000,0\n"
     ]
    }
   ],
   "source": [
    "file_name = \"UCI_Credit_Card.csv\"\n",
    "\n",
    "with open(file_name, encoding=\"utf-8\") as f:\n",
    "  file_content = f.read()\n",
    "\n",
    "file_lines = file_content.split(\"\\n\")\n",
    "\n",
    "for i in range(5):\n",
    "  print(file_lines[i])"
   ]
  },
  {
   "cell_type": "markdown",
   "metadata": {
    "id": "Rs79XcfcdBuG",
    "colab_type": "text"
   },
   "source": [
    "We note that the first row contains the names of the columns and that the separator used is the comma. We can now use pandas to load the file into a dataframe"
   ]
  },
  {
   "cell_type": "code",
   "execution_count": 4,
   "metadata": {
    "id": "paIoH5IEdzkg",
    "colab_type": "code",
    "outputId": "48045f9b-176d-4d41-cd98-233076ba735c",
    "executionInfo": {
     "status": "ok",
     "timestamp": 1.574554156966E12,
     "user_tz": -60.0,
     "elapsed": 4384.0,
     "user": {
      "displayName": "THAY Daniel",
      "photoUrl": "",
      "userId": "08618153734985027049"
     }
    },
    "colab": {
     "base_uri": "https://localhost:8080/",
     "height": 222.0
    }
   },
   "outputs": [
    {
     "data": {
      "text/html": [
       "<div>\n",
       "<style scoped>\n",
       "    .dataframe tbody tr th:only-of-type {\n",
       "        vertical-align: middle;\n",
       "    }\n",
       "\n",
       "    .dataframe tbody tr th {\n",
       "        vertical-align: top;\n",
       "    }\n",
       "\n",
       "    .dataframe thead th {\n",
       "        text-align: right;\n",
       "    }\n",
       "</style>\n",
       "<table border=\"1\" class=\"dataframe\">\n",
       "  <thead>\n",
       "    <tr style=\"text-align: right;\">\n",
       "      <th></th>\n",
       "      <th>ID</th>\n",
       "      <th>LIMIT_BAL</th>\n",
       "      <th>SEX</th>\n",
       "      <th>EDUCATION</th>\n",
       "      <th>MARRIAGE</th>\n",
       "      <th>AGE</th>\n",
       "      <th>PAY_0</th>\n",
       "      <th>PAY_2</th>\n",
       "      <th>PAY_3</th>\n",
       "      <th>PAY_4</th>\n",
       "      <th>PAY_5</th>\n",
       "      <th>PAY_6</th>\n",
       "      <th>BILL_AMT1</th>\n",
       "      <th>BILL_AMT2</th>\n",
       "      <th>BILL_AMT3</th>\n",
       "      <th>BILL_AMT4</th>\n",
       "      <th>BILL_AMT5</th>\n",
       "      <th>BILL_AMT6</th>\n",
       "      <th>PAY_AMT1</th>\n",
       "      <th>PAY_AMT2</th>\n",
       "      <th>PAY_AMT3</th>\n",
       "      <th>PAY_AMT4</th>\n",
       "      <th>PAY_AMT5</th>\n",
       "      <th>PAY_AMT6</th>\n",
       "      <th>default.payment.next.month</th>\n",
       "    </tr>\n",
       "  </thead>\n",
       "  <tbody>\n",
       "    <tr>\n",
       "      <th>0</th>\n",
       "      <td>1</td>\n",
       "      <td>20000.0</td>\n",
       "      <td>2</td>\n",
       "      <td>2</td>\n",
       "      <td>1</td>\n",
       "      <td>24</td>\n",
       "      <td>2</td>\n",
       "      <td>2</td>\n",
       "      <td>-1</td>\n",
       "      <td>-1</td>\n",
       "      <td>-2</td>\n",
       "      <td>-2</td>\n",
       "      <td>3913.0</td>\n",
       "      <td>3102.0</td>\n",
       "      <td>689.0</td>\n",
       "      <td>0.0</td>\n",
       "      <td>0.0</td>\n",
       "      <td>0.0</td>\n",
       "      <td>0.0</td>\n",
       "      <td>689.0</td>\n",
       "      <td>0.0</td>\n",
       "      <td>0.0</td>\n",
       "      <td>0.0</td>\n",
       "      <td>0.0</td>\n",
       "      <td>1</td>\n",
       "    </tr>\n",
       "    <tr>\n",
       "      <th>1</th>\n",
       "      <td>2</td>\n",
       "      <td>120000.0</td>\n",
       "      <td>2</td>\n",
       "      <td>2</td>\n",
       "      <td>2</td>\n",
       "      <td>26</td>\n",
       "      <td>-1</td>\n",
       "      <td>2</td>\n",
       "      <td>0</td>\n",
       "      <td>0</td>\n",
       "      <td>0</td>\n",
       "      <td>2</td>\n",
       "      <td>2682.0</td>\n",
       "      <td>1725.0</td>\n",
       "      <td>2682.0</td>\n",
       "      <td>3272.0</td>\n",
       "      <td>3455.0</td>\n",
       "      <td>3261.0</td>\n",
       "      <td>0.0</td>\n",
       "      <td>1000.0</td>\n",
       "      <td>1000.0</td>\n",
       "      <td>1000.0</td>\n",
       "      <td>0.0</td>\n",
       "      <td>2000.0</td>\n",
       "      <td>1</td>\n",
       "    </tr>\n",
       "    <tr>\n",
       "      <th>2</th>\n",
       "      <td>3</td>\n",
       "      <td>90000.0</td>\n",
       "      <td>2</td>\n",
       "      <td>2</td>\n",
       "      <td>2</td>\n",
       "      <td>34</td>\n",
       "      <td>0</td>\n",
       "      <td>0</td>\n",
       "      <td>0</td>\n",
       "      <td>0</td>\n",
       "      <td>0</td>\n",
       "      <td>0</td>\n",
       "      <td>29239.0</td>\n",
       "      <td>14027.0</td>\n",
       "      <td>13559.0</td>\n",
       "      <td>14331.0</td>\n",
       "      <td>14948.0</td>\n",
       "      <td>15549.0</td>\n",
       "      <td>1518.0</td>\n",
       "      <td>1500.0</td>\n",
       "      <td>1000.0</td>\n",
       "      <td>1000.0</td>\n",
       "      <td>1000.0</td>\n",
       "      <td>5000.0</td>\n",
       "      <td>0</td>\n",
       "    </tr>\n",
       "    <tr>\n",
       "      <th>3</th>\n",
       "      <td>4</td>\n",
       "      <td>50000.0</td>\n",
       "      <td>2</td>\n",
       "      <td>2</td>\n",
       "      <td>1</td>\n",
       "      <td>37</td>\n",
       "      <td>0</td>\n",
       "      <td>0</td>\n",
       "      <td>0</td>\n",
       "      <td>0</td>\n",
       "      <td>0</td>\n",
       "      <td>0</td>\n",
       "      <td>46990.0</td>\n",
       "      <td>48233.0</td>\n",
       "      <td>49291.0</td>\n",
       "      <td>28314.0</td>\n",
       "      <td>28959.0</td>\n",
       "      <td>29547.0</td>\n",
       "      <td>2000.0</td>\n",
       "      <td>2019.0</td>\n",
       "      <td>1200.0</td>\n",
       "      <td>1100.0</td>\n",
       "      <td>1069.0</td>\n",
       "      <td>1000.0</td>\n",
       "      <td>0</td>\n",
       "    </tr>\n",
       "    <tr>\n",
       "      <th>4</th>\n",
       "      <td>5</td>\n",
       "      <td>50000.0</td>\n",
       "      <td>1</td>\n",
       "      <td>2</td>\n",
       "      <td>1</td>\n",
       "      <td>57</td>\n",
       "      <td>-1</td>\n",
       "      <td>0</td>\n",
       "      <td>-1</td>\n",
       "      <td>0</td>\n",
       "      <td>0</td>\n",
       "      <td>0</td>\n",
       "      <td>8617.0</td>\n",
       "      <td>5670.0</td>\n",
       "      <td>35835.0</td>\n",
       "      <td>20940.0</td>\n",
       "      <td>19146.0</td>\n",
       "      <td>19131.0</td>\n",
       "      <td>2000.0</td>\n",
       "      <td>36681.0</td>\n",
       "      <td>10000.0</td>\n",
       "      <td>9000.0</td>\n",
       "      <td>689.0</td>\n",
       "      <td>679.0</td>\n",
       "      <td>0</td>\n",
       "    </tr>\n",
       "  </tbody>\n",
       "</table>\n",
       "</div>"
      ],
      "text/plain": [
       "   ID  LIMIT_BAL  SEX  ...  PAY_AMT5  PAY_AMT6  default.payment.next.month\n",
       "0   1    20000.0    2  ...       0.0       0.0                           1\n",
       "1   2   120000.0    2  ...       0.0    2000.0                           1\n",
       "2   3    90000.0    2  ...    1000.0    5000.0                           0\n",
       "3   4    50000.0    2  ...    1069.0    1000.0                           0\n",
       "4   5    50000.0    1  ...     689.0     679.0                           0\n",
       "\n",
       "[5 rows x 25 columns]"
      ]
     },
     "execution_count": 4,
     "metadata": {
      "tags": []
     },
     "output_type": "execute_result"
    }
   ],
   "source": [
    "import pandas as pd\n",
    "\n",
    "uci = pd.read_csv(file_name, sep=\",\", header=0)\n",
    "\"\"\"\n",
    "The previous line is equivalent to:\n",
    "uci = pd.read_csv(file_name)\n",
    "since the default separator is the comma \n",
    "and the first row of the file is considered \n",
    "by default to contain the names of the columns.\n",
    "The official doc of read_csv: https://pandas.pydata.org/pandas-docs/stable/reference/api/pandas.read_csv.html\n",
    "\"\"\"\n",
    "\n",
    "# We display the first 5 rows of the dataframe\n",
    "uci.head()"
   ]
  },
  {
   "cell_type": "markdown",
   "metadata": {
    "id": "DJCC6XXrrjdL",
    "colab_type": "text"
   },
   "source": [
    "# Data formatting\n",
    "\n",
    "## Examples of data selection\n",
    "\n",
    "\n"
   ]
  },
  {
   "cell_type": "markdown",
   "metadata": {
    "id": "JrZ-sl_QqEWo",
    "colab_type": "text"
   },
   "source": [
    "Some examples of data selection from the dataframe to simplify the understanding of what follows"
   ]
  },
  {
   "cell_type": "code",
   "execution_count": 5,
   "metadata": {
    "id": "MSfBXbOtnZFj",
    "colab_type": "code",
    "outputId": "4fea6b7e-83d0-4831-d40c-41331acf03c2",
    "executionInfo": {
     "status": "ok",
     "timestamp": 1.574554156967E12,
     "user_tz": -60.0,
     "elapsed": 4372.0,
     "user": {
      "displayName": "THAY Daniel",
      "photoUrl": "",
      "userId": "08618153734985027049"
     }
    },
    "colab": {
     "base_uri": "https://localhost:8080/",
     "height": 384.0
    }
   },
   "outputs": [
    {
     "name": "stdout",
     "output_type": "stream",
     "text": [
      "Type of uci: <class 'pandas.core.frame.DataFrame'>\n",
      "Size of uci: (30000, 25)\n",
      "\n",
      "\n",
      "Selecting the first row of the dataframe\n",
      "[ 1.000e+00  2.000e+04  2.000e+00  2.000e+00  1.000e+00  2.400e+01\n",
      "  2.000e+00  2.000e+00 -1.000e+00 -1.000e+00 -2.000e+00 -2.000e+00\n",
      "  3.913e+03  3.102e+03  6.890e+02  0.000e+00  0.000e+00  0.000e+00\n",
      "  0.000e+00  6.890e+02  0.000e+00  0.000e+00  0.000e+00  0.000e+00\n",
      "  1.000e+00]\n",
      "\n",
      "\n",
      "Selection of the first row of the dataframe but only the values of the columns from 'EDUCATION' to 'Age' included\n",
      "[ 2.  1. 24.]\n",
      "\n",
      "\n",
      "Selection of the first line of the dataframe but only the values of the columns from 'EDUCATION' to 'PAY_AMT2' included\n",
      "[ 2.000e+00  1.000e+00  2.400e+01  2.000e+00  2.000e+00 -1.000e+00\n",
      " -1.000e+00 -2.000e+00 -2.000e+00  3.913e+03  3.102e+03  6.890e+02\n",
      "  0.000e+00  0.000e+00  0.000e+00  0.000e+00  6.890e+02]\n"
     ]
    }
   ],
   "source": [
    "print(f\"Type of uci: {type(uci)}\")\n",
    "print(f\"Size of uci: {uci.shape}\")\n",
    "print(\"\\n\") # insertion of an empty line\n",
    "\n",
    "print(\"Selecting the first row of the dataframe\")\n",
    "print(uci.values[0, :])\n",
    "print(\"\\n\")\n",
    "\n",
    "print(\"Selection of the first row of the dataframe but only the values of the columns from 'EDUCATION' to 'Age' included\")\n",
    "print(uci.values[0, 3:6]) # with the syntax a: b column a is included in the selection but not b\n",
    "print(\"\\n\")\n",
    "\n",
    "print(\"Selection of the first line of the dataframe but only the values of the columns from 'EDUCATION' to 'PAY_AMT2' included\")\n",
    "print(uci.values[0, 3:-5]) # Negative indices can be used: -1 being the index of the last column"
   ]
  },
  {
   "cell_type": "markdown",
   "metadata": {
    "id": "1InT_-dfuprw",
    "colab_type": "text"
   },
   "source": [
    "## Data Selection\n",
    "\n",
    "X: Matrix of features\n",
    "\n",
    "Y: Vector labels"
   ]
  },
  {
   "cell_type": "code",
   "execution_count": 6,
   "metadata": {
    "id": "IKnOYv6AmdjL",
    "colab_type": "code",
    "outputId": "5212be2b-345c-4945-d296-41a09139c7cb",
    "executionInfo": {
     "status": "ok",
     "timestamp": 1.574554156968E12,
     "user_tz": -60.0,
     "elapsed": 4361.0,
     "user": {
      "displayName": "THAY Daniel",
      "photoUrl": "",
      "userId": "08618153734985027049"
     }
    },
    "colab": {
     "base_uri": "https://localhost:8080/",
     "height": 104.0
    }
   },
   "outputs": [
    {
     "name": "stdout",
     "output_type": "stream",
     "text": [
      "Type of X: <class 'numpy.ndarray'>\n",
      "Size of X: (30000, 23)\n",
      "\n",
      "Type of Y: <class 'numpy.ndarray'>\n",
      "Size of Y: (30000,)\n"
     ]
    }
   ],
   "source": [
    "\"\"\"\n",
    "X: all rows of the dataframe, the columns from 'Limit_BAL' to 'PAY_AMT6'\n",
    "Y: all rows of the dataframe, last column only\n",
    "\"\"\"\n",
    "X = uci.values[:, 1:-1]\n",
    "Y = uci.values[:,-1]\n",
    "\n",
    "print(f\"Type of X: {type(X)}\")\n",
    "print(f\"Size of X: {X.shape}\\n\")\n",
    "\n",
    "print(f\"Type of Y: {type(Y)}\")\n",
    "print(f\"Size of Y: {Y.shape}\")"
   ]
  },
  {
   "cell_type": "markdown",
   "metadata": {
    "id": "qwf15Istx6TC",
    "colab_type": "text"
   },
   "source": [
    "## Methodology\n",
    "\n",
    "The available data should be divided into three parts:\n",
    "- One part for training models\n",
    "- One part for the validation of the training\n",
    "- One part for the performance test of the model\n",
    "\n",
    "The rows allocated to each of the three parts will be chosen randomly"
   ]
  },
  {
   "cell_type": "code",
   "execution_count": 7,
   "metadata": {
    "id": "En9u_Y3AgVAy",
    "colab_type": "code",
    "outputId": "b1a6bd5b-e64d-4090-d51a-a74314ede189",
    "executionInfo": {
     "status": "ok",
     "timestamp": 1.574554156968E12,
     "user_tz": -60.0,
     "elapsed": 4348.0,
     "user": {
      "displayName": "THAY Daniel",
      "photoUrl": "",
      "userId": "08618153734985027049"
     }
    },
    "colab": {
     "base_uri": "https://localhost:8080/",
     "height": 52.0
    }
   },
   "outputs": [
    {
     "name": "stdout",
     "output_type": "stream",
     "text": [
      "Before the shuffle: [    0     1     2 ... 29997 29998 29999]\n",
      "After the shuffle: [9724 9633 2208 ... 2781 1926 7489]\n"
     ]
    }
   ],
   "source": [
    "import numpy as np\n",
    "\n",
    "size = len(Y)\n",
    "perm = np.arange(size)\n",
    "print(f\"Before the shuffle: {perm}\")\n",
    "np.random.shuffle(perm)\n",
    "print(f\"After the shuffle: {perm}\")"
   ]
  },
  {
   "cell_type": "code",
   "execution_count": 0,
   "metadata": {
    "id": "2bQ6Ih8rvggK",
    "colab_type": "code",
    "colab": {}
   },
   "outputs": [],
   "source": [
    "import math\n",
    "\n",
    "training_ratio = 0.7\n",
    "validation_ratio = 0.15\n",
    "test_ratio = 0.15\n",
    "\n",
    "last_training_index = math.floor(size * training_ratio)\n",
    "last_validation_index = last_training_index + math.floor(size * validation_ratio)"
   ]
  },
  {
   "cell_type": "code",
   "execution_count": 9,
   "metadata": {
    "id": "MKAqeCw3zUjx",
    "colab_type": "code",
    "outputId": "b0158e53-23b3-4beb-948c-e86fe37e3e80",
    "executionInfo": {
     "status": "ok",
     "timestamp": 1.57455415697E12,
     "user_tz": -60.0,
     "elapsed": 4331.0,
     "user": {
      "displayName": "THAY Daniel",
      "photoUrl": "",
      "userId": "08618153734985027049"
     }
    },
    "colab": {
     "base_uri": "https://localhost:8080/",
     "height": 35.0
    }
   },
   "outputs": [
    {
     "name": "stdout",
     "output_type": "stream",
     "text": [
      "(21000, 23) training samples, (4500, 23) validation samples, (4500, 23) test samples\n"
     ]
    }
   ],
   "source": [
    "X_train = X[perm[0:last_training_index], :]\n",
    "Y_train = Y[perm[0:last_training_index]]\n",
    "\n",
    "X_val = X[perm[last_training_index:last_validation_index],:]\n",
    "Y_val = Y[perm[last_training_index:last_validation_index]]\n",
    "\n",
    "X_test = X[perm[last_validation_index:], :]\n",
    "Y_test = Y[perm[last_validation_index:]]\n",
    "\n",
    "print(f\"{X_train.shape} training samples, {X_val.shape} validation samples, {X_test.shape} test samples\")"
   ]
  },
  {
   "cell_type": "markdown",
   "metadata": {
    "id": "d1TEZPz5rnAn",
    "colab_type": "text"
   },
   "source": [
    "## Data Display in 2D"
   ]
  },
  {
   "cell_type": "code",
   "execution_count": 0,
   "metadata": {
    "id": "ZTMINg9Gm04x",
    "colab_type": "code",
    "colab": {}
   },
   "outputs": [],
   "source": [
    "from sklearn.preprocessing import MinMaxScaler\n",
    "from sklearn.decomposition import PCA, KernelPCA\n",
    "from sklearn.manifold import TSNE\n",
    "import matplotlib.pyplot as plt\n",
    "\n",
    "from matplotlib.colors import ListedColormap\n",
    "\n",
    "cmap = ListedColormap([\"#0000FF\", \"#FF0000\"])"
   ]
  },
  {
   "cell_type": "code",
   "execution_count": 11,
   "metadata": {
    "id": "uvCDvUtRm2_6",
    "colab_type": "code",
    "outputId": "0a7cb828-fb41-493c-8d8c-7a232e7e5506",
    "executionInfo": {
     "status": "ok",
     "timestamp": 1.574554160034E12,
     "user_tz": -60.0,
     "elapsed": 7374.0,
     "user": {
      "displayName": "THAY Daniel",
      "photoUrl": "",
      "userId": "08618153734985027049"
     }
    },
    "colab": {
     "base_uri": "https://localhost:8080/",
     "height": 283.0
    }
   },
   "outputs": [
    {
     "data": {
      "text/plain": [
       "<matplotlib.collections.PathCollection at 0x7fbb61efb668>"
      ]
     },
     "execution_count": 11,
     "metadata": {
      "tags": []
     },
     "output_type": "execute_result"
    },
    {
     "data": {
      "image/png": "[encoded data removed]",
      "text/plain": [
       "<Figure size 432x288 with 1 Axes>"
      ]
     },
     "metadata": {
      "tags": []
     },
     "output_type": "display_data"
    }
   ],
   "source": [
    "minmax = MinMaxScaler(feature_range=(-1,1))\n",
    "X = minmax.fit_transform(X_val)\n",
    "\n",
    "proj = KernelPCA(n_components=2, kernel=\"rbf\", gamma=1.0)\n",
    "X_pca = proj.fit_transform(X)\n",
    "plt.scatter(X_pca[:,0], X_pca[:,1], c=Y_val, cmap=cmap, edgecolors=\"k\", s=20)"
   ]
  },
  {
   "cell_type": "markdown",
   "metadata": {
    "id": "KEcFVrgM2P85",
    "colab_type": "text"
   },
   "source": [
    "# Classification"
   ]
  },
  {
   "cell_type": "code",
   "execution_count": 12,
   "metadata": {
    "id": "Y8x1gH3mrykr",
    "colab_type": "code",
    "outputId": "f676edef-9bff-4d8e-eb26-152534b88264",
    "executionInfo": {
     "status": "ok",
     "timestamp": 1.574554160035E12,
     "user_tz": -60.0,
     "elapsed": 7366.0,
     "user": {
      "displayName": "THAY Daniel",
      "photoUrl": "",
      "userId": "08618153734985027049"
     }
    },
    "colab": {
     "base_uri": "https://localhost:8080/",
     "height": 35.0
    }
   },
   "outputs": [
    {
     "name": "stdout",
     "output_type": "stream",
     "text": [
      "[1 1 1 ... 1 0 0]\n"
     ]
    }
   ],
   "source": [
    "k=len(Y_test)\n",
    "Y_class=np.zeros(k,)\n",
    "Y_class=np.random.randint(2,size=(k,))\n",
    "print(Y_class)"
   ]
  },
  {
   "cell_type": "code",
   "execution_count": 13,
   "metadata": {
    "id": "3jPf7OyBmAnS",
    "colab_type": "code",
    "outputId": "ac6c3f3a-9efa-4e34-8919-76210041461f",
    "executionInfo": {
     "status": "ok",
     "timestamp": 1.574554160036E12,
     "user_tz": -60.0,
     "elapsed": 7357.0,
     "user": {
      "displayName": "THAY Daniel",
      "photoUrl": "",
      "userId": "08618153734985027049"
     }
    },
    "colab": {
     "base_uri": "https://localhost:8080/",
     "height": 35.0
    }
   },
   "outputs": [
    {
     "name": "stdout",
     "output_type": "stream",
     "text": [
      "0.5108888888888888\n"
     ]
    }
   ],
   "source": [
    "S=0\n",
    "for i in range(k):\n",
    "  if(Y_class[i]==Y_test[i]):\n",
    "    S+=1\n",
    "accuracy=S/k\n",
    "print(accuracy)"
   ]
  },
  {
   "cell_type": "code",
   "execution_count": 14,
   "metadata": {
    "id": "T_WRZKQRL-aq",
    "colab_type": "code",
    "outputId": "08ba29c7-a54f-4d51-ff3b-601cb8b80992",
    "executionInfo": {
     "status": "ok",
     "timestamp": 1.574554160036E12,
     "user_tz": -60.0,
     "elapsed": 7348.0,
     "user": {
      "displayName": "THAY Daniel",
      "photoUrl": "",
      "userId": "08618153734985027049"
     }
    },
    "colab": {
     "base_uri": "https://localhost:8080/",
     "height": 35.0
    }
   },
   "outputs": [
    {
     "data": {
      "text/plain": [
       "0.5108888888888888"
      ]
     },
     "execution_count": 14,
     "metadata": {
      "tags": []
     },
     "output_type": "execute_result"
    }
   ],
   "source": [
    "from sklearn.metrics import accuracy_score\n",
    "accuracy_score(Y_test,Y_class, normalize=True)  #On a trouvé une fonction qui s'occupe de calculer la précision"
   ]
  },
  {
   "cell_type": "markdown",
   "metadata": {
    "id": "SN-ZGOH8Nrtc",
    "colab_type": "text"
   },
   "source": [
    "On utilise maintenant un classifieur dans la bibilothèque sklearn où on peut choisir la distribution."
   ]
  },
  {
   "cell_type": "code",
   "execution_count": 15,
   "metadata": {
    "id": "yWkncnR_LXED",
    "colab_type": "code",
    "outputId": "1ea7588b-55f6-4147-e7d5-7141bc81bb14",
    "executionInfo": {
     "status": "ok",
     "timestamp": 1.574554160037E12,
     "user_tz": -60.0,
     "elapsed": 7339.0,
     "user": {
      "displayName": "THAY Daniel",
      "photoUrl": "",
      "userId": "08618153734985027049"
     }
    },
    "colab": {
     "base_uri": "https://localhost:8080/",
     "height": 35.0
    }
   },
   "outputs": [
    {
     "name": "stdout",
     "output_type": "stream",
     "text": [
      "Accuracy: 0.5088888888888888\n"
     ]
    }
   ],
   "source": [
    "from sklearn.dummy import DummyClassifier\n",
    "Uniform=DummyClassifier(strategy='uniform', random_state=None, constant=None)\n",
    "Uniform.fit(X_train, Y_train)\n",
    "Y_Uniform=Uniform.predict(X_test)\n",
    "accuracy_Uniform=accuracy_score(Y_test,Y_Uniform, normalize=True)\n",
    "print('Accuracy:',accuracy_Uniform)"
   ]
  },
  {
   "cell_type": "markdown",
   "metadata": {
    "id": "6y3HKIUnopwT",
    "colab_type": "text"
   },
   "source": [
    "Pour un classificateur aléatoire on a une précision de 50% (on a utilisé une distribution uniforme pour les labels). \n",
    "Les modèles que l'on va construire doivent au minimum avoir une meilleure précision.\n"
   ]
  },
  {
   "cell_type": "code",
   "execution_count": 16,
   "metadata": {
    "id": "UX_vDBaUNd3M",
    "colab_type": "code",
    "outputId": "0b73cd66-17e5-4ed9-bd82-aeddbc9ca28d",
    "executionInfo": {
     "status": "ok",
     "timestamp": 1.574554160037E12,
     "user_tz": -60.0,
     "elapsed": 7331.0,
     "user": {
      "displayName": "THAY Daniel",
      "photoUrl": "",
      "userId": "08618153734985027049"
     }
    },
    "colab": {
     "base_uri": "https://localhost:8080/",
     "height": 35.0
    }
   },
   "outputs": [
    {
     "name": "stdout",
     "output_type": "stream",
     "text": [
      "Accuracy: 0.6553333333333333\n"
     ]
    }
   ],
   "source": [
    "Stratified=DummyClassifier(strategy='stratified', random_state=None, constant=None)\n",
    "Stratified.fit(X_train, Y_train)\n",
    "Y_Stratified=Stratified.predict(X_test)\n",
    "accuracy_Stratified=accuracy_score(Y_test,Y_Stratified, normalize=True)\n",
    "print('Accuracy:',accuracy_Stratified)"
   ]
  },
  {
   "cell_type": "markdown",
   "metadata": {
    "id": "PjlL4dd3NhJl",
    "colab_type": "text"
   },
   "source": [
    "On a utilisé un classificateur aléatoire qui n'a pas une distribution uniforme, celui ci introduit du biais. "
   ]
  },
  {
   "cell_type": "markdown",
   "metadata": {
    "id": "del05S36rzdp",
    "colab_type": "text"
   },
   "source": [
    "## k-nearest neighbors"
   ]
  },
  {
   "cell_type": "code",
   "execution_count": 17,
   "metadata": {
    "id": "v7Uk-daSp9C_",
    "colab_type": "code",
    "outputId": "6f601f75-fc53-40aa-e221-400c40e25019",
    "executionInfo": {
     "status": "ok",
     "timestamp": 1.574554195773E12,
     "user_tz": -60.0,
     "elapsed": 43055.0,
     "user": {
      "displayName": "THAY Daniel",
      "photoUrl": "",
      "userId": "08618153734985027049"
     }
    },
    "colab": {
     "base_uri": "https://localhost:8080/",
     "height": 283.0
    }
   },
   "outputs": [
    {
     "data": {
      "text/plain": [
       "[<matplotlib.lines.Line2D at 0x7fbb601f1da0>]"
      ]
     },
     "execution_count": 17,
     "metadata": {
      "tags": []
     },
     "output_type": "execute_result"
    },
    {
     "data": {
      "image/png": "[encoded data removed]",
      "text/plain": [
       "<Figure size 432x288 with 1 Axes>"
      ]
     },
     "metadata": {
      "tags": []
     },
     "output_type": "display_data"
    }
   ],
   "source": [
    "from sklearn.neighbors import KNeighborsClassifier\n",
    "import matplotlib.pyplot as plt\n",
    "K=range(1,50)\n",
    "accuracy_KNN=[]\n",
    "for k in K:\n",
    "  KNN = KNeighborsClassifier(n_neighbors=k)\n",
    "  KNN.fit(X_train, Y_train)   #On entraîne le KNN modèle avec les échantillons d'entraînement (X_train,Y_train)\n",
    "  Y_KNN = KNN.predict(X_test) # #Le modèle prédit des labels pour les X_test\n",
    "  accuracy_knn=accuracy_score(Y_test,Y_KNN, normalize=True)  #On compare les prédiction avec les 'true' labels pour déterminer la précision\n",
    "  accuracy_KNN.append(accuracy_knn)   \n",
    "plt.plot(K,accuracy_KNN)"
   ]
  },
  {
   "cell_type": "markdown",
   "metadata": {
    "id": "d2c5ugIu0_oL",
    "colab_type": "text"
   },
   "source": [
    "Le but de ce classificateur est de déterminer la classe d'un point grâce à ses points voisins. Pour k=3, si deux de ses voisins sont bleus, ce point va être bleu.\n",
    "On remarque que plus k est grand, plus la précision va converger vers la probabilité de points majoritaires.\n",
    "Lorsque k est trop petit (ici K<=10),la précision est très instable.\n",
    "Une bonne valeur de K ici est 42.\n",
    "Le classificateur KNN est simple mais la classification n'est pas optimale."
   ]
  },
  {
   "cell_type": "markdown",
   "metadata": {
    "id": "tOTqaEu4r3sV",
    "colab_type": "text"
   },
   "source": [
    "## Decision trees"
   ]
  },
  {
   "cell_type": "markdown",
   "metadata": {
    "id": "Cs_-8_6cR5A9",
    "colab_type": "text"
   },
   "source": [
    "On construit de manière similaire notre modèle 'Decision tree'.\n",
    "On prend différentes valeurs de max_depth (nombre de questions posées dans l'arbre, ie le nombre de niveaux dans l'arbre) pour voir l'influence de ce paramètre sur la précision.\n"
   ]
  },
  {
   "cell_type": "code",
   "execution_count": 18,
   "metadata": {
    "id": "rERA-vDQROty",
    "colab_type": "code",
    "outputId": "95ecc4a9-956c-46a0-ae73-3283999a4b97",
    "executionInfo": {
     "status": "ok",
     "timestamp": 1.574554195775E12,
     "user_tz": -60.0,
     "elapsed": 43048.0,
     "user": {
      "displayName": "THAY Daniel",
      "photoUrl": "",
      "userId": "08618153734985027049"
     }
    },
    "colab": {
     "base_uri": "https://localhost:8080/",
     "height": 69.0
    }
   },
   "outputs": [
    {
     "name": "stdout",
     "output_type": "stream",
     "text": [
      "Accuracy_train: 0.820047619047619\n",
      "Accuracy_val: 0.8115555555555556\n",
      "Accuracy_test: 0.8255555555555556\n"
     ]
    }
   ],
   "source": [
    "from sklearn import tree\n",
    "arbre = tree.DecisionTreeClassifier(max_depth=1)  \n",
    "arbre.fit(X_train, Y_train)\n",
    "Y_arbre_train=arbre.predict(X_train)\n",
    "Y_arbre_val=arbre.predict(X_val)\n",
    "Y_arbre_test=arbre.predict(X_test)\n",
    "accuracy_tree_train=accuracy_score(Y_train,Y_arbre_train,normalize=True)\n",
    "accuracy_tree_val=accuracy_score(Y_val, Y_arbre_val, normalize=True)\n",
    "accuracy_tree_test = accuracy_score(Y_test,Y_arbre_test, normalize=True) \n",
    "print('Accuracy_train:',accuracy_tree_train)\n",
    "print('Accuracy_val:',accuracy_tree_val)\n",
    "print('Accuracy_test:',accuracy_tree_test)"
   ]
  },
  {
   "cell_type": "code",
   "execution_count": 19,
   "metadata": {
    "id": "Op51lVYqRW26",
    "colab_type": "code",
    "outputId": "89768a8f-d6c1-4b8c-ff93-2bf201e80ee1",
    "executionInfo": {
     "status": "ok",
     "timestamp": 1.574554196471E12,
     "user_tz": -60.0,
     "elapsed": 43733.0,
     "user": {
      "displayName": "THAY Daniel",
      "photoUrl": "",
      "userId": "08618153734985027049"
     }
    },
    "colab": {
     "base_uri": "https://localhost:8080/",
     "height": 69.0
    }
   },
   "outputs": [
    {
     "name": "stdout",
     "output_type": "stream",
     "text": [
      "Accuracy_train: 0.9733333333333334\n",
      "Accuracy_val: 0.7411111111111112\n",
      "Accuracy_test: 0.7415555555555555\n"
     ]
    }
   ],
   "source": [
    "arbre = tree.DecisionTreeClassifier(max_depth=23)  # max_depth = nombre de questions posées dans l'arbre. \n",
    "arbre.fit(X_train, Y_train)\n",
    "Y_arbre_train=arbre.predict(X_train)\n",
    "Y_arbre_val=arbre.predict(X_val)\n",
    "Y_arbre_test=arbre.predict(X_test)\n",
    "accuracy_tree_train=accuracy_score(Y_train,Y_arbre_train,normalize=True)\n",
    "accuracy_tree_val=accuracy_score(Y_val, Y_arbre_val, normalize=True)\n",
    "accuracy_tree_test = accuracy_score(Y_test,Y_arbre_test, normalize=True) \n",
    "print('Accuracy_train:',accuracy_tree_train)\n",
    "print('Accuracy_val:',accuracy_tree_val)\n",
    "print('Accuracy_test:',accuracy_tree_test)"
   ]
  },
  {
   "cell_type": "code",
   "execution_count": 20,
   "metadata": {
    "id": "uKQiBLQ-TdG5",
    "colab_type": "code",
    "outputId": "7b099cfa-13c5-49d7-a00c-fdca23b02913",
    "executionInfo": {
     "status": "ok",
     "timestamp": 1.574554196472E12,
     "user_tz": -60.0,
     "elapsed": 43725.0,
     "user": {
      "displayName": "THAY Daniel",
      "photoUrl": "",
      "userId": "08618153734985027049"
     }
    },
    "colab": {
     "base_uri": "https://localhost:8080/",
     "height": 69.0
    }
   },
   "outputs": [
    {
     "name": "stdout",
     "output_type": "stream",
     "text": [
      "Accuracy_train: 0.8244761904761905\n",
      "Accuracy_val: 0.8137777777777778\n",
      "Accuracy_test: 0.8288888888888889\n"
     ]
    }
   ],
   "source": [
    "arbre = tree.DecisionTreeClassifier(max_depth=5)  # max_depth = nombre de questions posées dans l'arbre, ie le nombre de niveaux dans l'arbre. \n",
    "arbre.fit(X_train, Y_train)\n",
    "Y_arbre_train=arbre.predict(X_train)\n",
    "Y_arbre_val=arbre.predict(X_val)\n",
    "Y_arbre_test=arbre.predict(X_test)\n",
    "accuracy_tree_train=accuracy_score(Y_train,Y_arbre_train,normalize=True)\n",
    "accuracy_tree_val=accuracy_score(Y_val, Y_arbre_val, normalize=True)\n",
    "accuracy_tree_test = accuracy_score(Y_test,Y_arbre_test, normalize=True) \n",
    "print('Accuracy_train:',accuracy_tree_train)\n",
    "print('Accuracy_val:',accuracy_tree_val)\n",
    "print('Accuracy_test:',accuracy_tree_test)"
   ]
  },
  {
   "cell_type": "code",
   "execution_count": 21,
   "metadata": {
    "id": "guBV1JAzE6Bd",
    "colab_type": "code",
    "outputId": "1e5ec5df-650a-47ab-9d19-278c42491357",
    "executionInfo": {
     "status": "ok",
     "timestamp": 1.574554198644E12,
     "user_tz": -60.0,
     "elapsed": 45888.0,
     "user": {
      "displayName": "THAY Daniel",
      "photoUrl": "",
      "userId": "08618153734985027049"
     }
    },
    "colab": {
     "base_uri": "https://localhost:8080/",
     "height": 1000.0
    }
   },
   "outputs": [
    {
     "data": {
      "text/plain": [
       "[Text(172.2825, 199.32, 'X[5] <= 1.5\\ngini = 0.345\\nsamples = 21000\\nvalue = [16340, 4660]'),\n",
       " Text(89.28, 163.07999999999998, 'X[6] <= 1.5\\ngini = 0.276\\nsamples = 18775\\nvalue = [15668, 3107]'),\n",
       " Text(44.64, 126.83999999999999, 'X[19] <= 582.5\\ngini = 0.246\\nsamples = 17210\\nvalue = [14744, 2466]'),\n",
       " Text(22.32, 90.6, 'X[11] <= 533.5\\ngini = 0.343\\nsamples = 4530\\nvalue = [3533, 997]'),\n",
       " Text(11.16, 54.359999999999985, 'X[22] <= 884.5\\ngini = 0.398\\nsamples = 1844\\nvalue = [1338, 506]'),\n",
       " Text(5.58, 18.119999999999976, 'gini = 0.417\\nsamples = 1512\\nvalue = [1064, 448]'),\n",
       " Text(16.740000000000002, 18.119999999999976, 'gini = 0.288\\nsamples = 332\\nvalue = [274, 58]'),\n",
       " Text(33.480000000000004, 54.359999999999985, 'X[8] <= 1.0\\ngini = 0.299\\nsamples = 2686\\nvalue = [2195, 491]'),\n",
       " Text(27.9, 18.119999999999976, 'gini = 0.27\\nsamples = 2166\\nvalue = [1818, 348]'),\n",
       " Text(39.06, 18.119999999999976, 'gini = 0.399\\nsamples = 520\\nvalue = [377, 143]'),\n",
       " Text(66.96000000000001, 90.6, 'X[8] <= 0.5\\ngini = 0.205\\nsamples = 12680\\nvalue = [11211, 1469]'),\n",
       " Text(55.8, 54.359999999999985, 'X[0] <= 75000.0\\ngini = 0.198\\nsamples = 12426\\nvalue = [11045, 1381]'),\n",
       " Text(50.22, 18.119999999999976, 'gini = 0.27\\nsamples = 3196\\nvalue = [2682, 514]'),\n",
       " Text(61.38, 18.119999999999976, 'gini = 0.17\\nsamples = 9230\\nvalue = [8363, 867]'),\n",
       " Text(78.12, 54.359999999999985, 'X[18] <= 2187.5\\ngini = 0.453\\nsamples = 254\\nvalue = [166, 88]'),\n",
       " Text(72.54, 18.119999999999976, 'gini = 0.492\\nsamples = 133\\nvalue = [75, 58]'),\n",
       " Text(83.7, 18.119999999999976, 'gini = 0.373\\nsamples = 121\\nvalue = [91, 30]'),\n",
       " Text(133.92000000000002, 126.83999999999999, 'X[9] <= 1.0\\ngini = 0.484\\nsamples = 1565\\nvalue = [924, 641]'),\n",
       " Text(111.6, 90.6, 'X[0] <= 185000.0\\ngini = 0.466\\nsamples = 1094\\nvalue = [689, 405]'),\n",
       " Text(100.44, 54.359999999999985, 'X[18] <= 1604.5\\ngini = 0.48\\nsamples = 863\\nvalue = [517, 346]'),\n",
       " Text(94.86, 18.119999999999976, 'gini = 0.496\\nsamples = 468\\nvalue = [255, 213]'),\n",
       " Text(106.02, 18.119999999999976, 'gini = 0.447\\nsamples = 395\\nvalue = [262, 133]'),\n",
       " Text(122.76, 54.359999999999985, 'X[12] <= 194932.5\\ngini = 0.38\\nsamples = 231\\nvalue = [172, 59]'),\n",
       " Text(117.18, 18.119999999999976, 'gini = 0.345\\nsamples = 194\\nvalue = [151, 43]'),\n",
       " Text(128.34, 18.119999999999976, 'gini = 0.491\\nsamples = 37\\nvalue = [21, 16]'),\n",
       " Text(156.24, 90.6, 'X[4] <= 43.5\\ngini = 0.5\\nsamples = 471\\nvalue = [235, 236]'),\n",
       " Text(145.08, 54.359999999999985, 'X[11] <= 11613.0\\ngini = 0.498\\nsamples = 379\\nvalue = [202, 177]'),\n",
       " Text(139.5, 18.119999999999976, 'gini = 0.484\\nsamples = 95\\nvalue = [39, 56]'),\n",
       " Text(150.66, 18.119999999999976, 'gini = 0.489\\nsamples = 284\\nvalue = [163, 121]'),\n",
       " Text(167.4, 54.359999999999985, 'X[21] <= 1315.5\\ngini = 0.46\\nsamples = 92\\nvalue = [33, 59]'),\n",
       " Text(161.82, 18.119999999999976, 'gini = 0.33\\nsamples = 48\\nvalue = [10, 38]'),\n",
       " Text(172.98, 18.119999999999976, 'gini = 0.499\\nsamples = 44\\nvalue = [23, 21]'),\n",
       " Text(255.285, 163.07999999999998, 'X[11] <= 586.5\\ngini = 0.422\\nsamples = 2225\\nvalue = [672, 1553]'),\n",
       " Text(220.41, 126.83999999999999, 'X[7] <= -0.5\\ngini = 0.474\\nsamples = 75\\nvalue = [46, 29]'),\n",
       " Text(200.88, 90.6, 'X[11] <= 172.5\\ngini = 0.326\\nsamples = 39\\nvalue = [31, 8]'),\n",
       " Text(189.72, 54.359999999999985, 'X[10] <= -1.5\\ngini = 0.48\\nsamples = 5\\nvalue = [2, 3]'),\n",
       " Text(184.14000000000001, 18.119999999999976, 'gini = 0.0\\nsamples = 2\\nvalue = [2, 0]'),\n",
       " Text(195.3, 18.119999999999976, 'gini = 0.0\\nsamples = 3\\nvalue = [0, 3]'),\n",
       " Text(212.04, 54.359999999999985, 'X[1] <= 1.5\\ngini = 0.251\\nsamples = 34\\nvalue = [29, 5]'),\n",
       " Text(206.46, 18.119999999999976, 'gini = 0.0\\nsamples = 13\\nvalue = [13, 0]'),\n",
       " Text(217.62, 18.119999999999976, 'gini = 0.363\\nsamples = 21\\nvalue = [16, 5]'),\n",
       " Text(239.94, 90.6, 'X[4] <= 47.0\\ngini = 0.486\\nsamples = 36\\nvalue = [15, 21]'),\n",
       " Text(234.36, 54.359999999999985, 'X[15] <= 9130.0\\ngini = 0.497\\nsamples = 28\\nvalue = [15, 13]'),\n",
       " Text(228.78, 18.119999999999976, 'gini = 0.491\\nsamples = 23\\nvalue = [10, 13]'),\n",
       " Text(239.94, 18.119999999999976, 'gini = 0.0\\nsamples = 5\\nvalue = [5, 0]'),\n",
       " Text(245.52, 54.359999999999985, 'gini = 0.0\\nsamples = 8\\nvalue = [0, 8]'),\n",
       " Text(290.16, 126.83999999999999, 'X[10] <= 1.0\\ngini = 0.413\\nsamples = 2150\\nvalue = [626, 1524]'),\n",
       " Text(267.84000000000003, 90.6, 'X[2] <= 3.5\\ngini = 0.443\\nsamples = 1297\\nvalue = [429, 868]'),\n",
       " Text(256.68, 54.359999999999985, 'X[2] <= 2.5\\ngini = 0.439\\nsamples = 1279\\nvalue = [416, 863]'),\n",
       " Text(251.1, 18.119999999999976, 'gini = 0.424\\nsamples = 980\\nvalue = [299, 681]'),\n",
       " Text(262.26, 18.119999999999976, 'gini = 0.476\\nsamples = 299\\nvalue = [117, 182]'),\n",
       " Text(279.0, 54.359999999999985, 'X[7] <= 1.0\\ngini = 0.401\\nsamples = 18\\nvalue = [13, 5]'),\n",
       " Text(273.42, 18.119999999999976, 'gini = 0.305\\nsamples = 16\\nvalue = [13, 3]'),\n",
       " Text(284.58, 18.119999999999976, 'gini = 0.0\\nsamples = 2\\nvalue = [0, 2]'),\n",
       " Text(312.48, 90.6, 'X[16] <= 984.0\\ngini = 0.355\\nsamples = 853\\nvalue = [197, 656]'),\n",
       " Text(301.32, 54.359999999999985, 'X[11] <= 690.0\\ngini = 0.484\\nsamples = 17\\nvalue = [10, 7]'),\n",
       " Text(295.74, 18.119999999999976, 'gini = 0.0\\nsamples = 4\\nvalue = [0, 4]'),\n",
       " Text(306.9, 18.119999999999976, 'gini = 0.355\\nsamples = 13\\nvalue = [10, 3]'),\n",
       " Text(323.64, 54.359999999999985, 'X[16] <= 18114.0\\ngini = 0.347\\nsamples = 836\\nvalue = [187, 649]'),\n",
       " Text(318.06, 18.119999999999976, 'gini = 0.225\\nsamples = 194\\nvalue = [25, 169]'),\n",
       " Text(329.22, 18.119999999999976, 'gini = 0.377\\nsamples = 642\\nvalue = [162, 480]')]"
      ]
     },
     "execution_count": 21,
     "metadata": {
      "tags": []
     },
     "output_type": "execute_result"
    },
    {
     "data": {
      "image/png": "[encoded data removed]",
      "text/plain": [
       "<Figure size 432x288 with 1 Axes>"
      ]
     },
     "metadata": {
      "tags": []
     },
     "output_type": "display_data"
    }
   ],
   "source": [
    "tree.plot_tree(arbre.fit(X_train, Y_train)) #On affiche l'arbre\n"
   ]
  },
  {
   "cell_type": "markdown",
   "metadata": {
    "id": "i1QByKp1-mKO",
    "colab_type": "text"
   },
   "source": [
    "Si max_depth est trop élevé (max_depth=23): overfitting (excellente présion d'entraînement mais mauvaise précision au niveau la validation, et donc au niveau du test),ce qui est logique car trop de questions donc mauvaise généralisation. </br>\n",
    "Si max_depth est trop faible (max_depth=1): on devrait avoir de l'underfitting (pas assez de questions donc pas assez d'information), ce qui n'est pas trop le cas ici (la précision d'entraînement reste correcte). </br>\n",
    "Un bon max_depth pour eviter l'overfitting et l'underfitting est 5. <br>\n",
    "Ce modèle est meilleur que le KNN, ce qui est logique vu que la classification se fait en prenant en compte plus de paramètre que le KNN (dans celui ci on prend en compte que les classes des voisins).\n"
   ]
  },
  {
   "cell_type": "markdown",
   "metadata": {
    "id": "pSeDPtx5r8eW",
    "colab_type": "text"
   },
   "source": [
    "## SVM"
   ]
  },
  {
   "cell_type": "code",
   "execution_count": 22,
   "metadata": {
    "id": "-YZo1I2-r_Pf",
    "colab_type": "code",
    "colab": {
     "base_uri": "https://localhost:8080/",
     "height": 69.0
    },
    "outputId": "8a0c6b66-f515-47c9-edcd-0adc57c5eb1e",
    "executionInfo": {
     "status": "ok",
     "timestamp": 1.574554293984E12,
     "user_tz": -60.0,
     "elapsed": 141220.0,
     "user": {
      "displayName": "THAY Daniel",
      "photoUrl": "",
      "userId": "08618153734985027049"
     }
    }
   },
   "outputs": [
    {
     "name": "stdout",
     "output_type": "stream",
     "text": [
      "Accuracy train: 0.9931904761904762\n",
      "Accuracy val: 0.7788888888888889\n",
      "Accuracy test: 0.7853333333333333\n"
     ]
    }
   ],
   "source": [
    "from sklearn.svm import SVC\n",
    "SVM = SVC(C=1,gamma='auto')\n",
    "SVM.fit(X_train, Y_train) \n",
    "Y_SVM_train=SVM.predict(X_train)\n",
    "Y_SVM_val=SVM.predict(X_val)\n",
    "Y_SVM_test=SVM.predict(X_test)\n",
    "accuracy_SVM_train = accuracy_score(Y_train,Y_SVM_train, normalize=True)\n",
    "accuracy_SVM_val=accuracy_score(Y_val, Y_SVM_val, normalize=True)\n",
    "accuracy_SVM_test = accuracy_score(Y_test,Y_SVM_test, normalize=True) \n",
    "print('Accuracy train:',accuracy_SVM_train)\n",
    "print('Accuracy val:',accuracy_SVM_val)\n",
    "print('Accuracy test:',accuracy_SVM_test)"
   ]
  },
  {
   "cell_type": "code",
   "execution_count": 23,
   "metadata": {
    "id": "ikEOl8_dV0D_",
    "colab_type": "code",
    "colab": {
     "base_uri": "https://localhost:8080/",
     "height": 69.0
    },
    "outputId": "d716b9ef-b02b-4103-b7ca-a36d740edd9f",
    "executionInfo": {
     "status": "ok",
     "timestamp": 1.574554327549E12,
     "user_tz": -60.0,
     "elapsed": 174777.0,
     "user": {
      "displayName": "THAY Daniel",
      "photoUrl": "",
      "userId": "08618153734985027049"
     }
    }
   },
   "outputs": [
    {
     "name": "stdout",
     "output_type": "stream",
     "text": [
      "Accuracy train: 0.7781904761904762\n",
      "Accuracy val: 0.7775555555555556\n",
      "Accuracy test: 0.7833333333333333\n"
     ]
    }
   ],
   "source": [
    "SVM = SVC(C=1,gamma='scale')\n",
    "SVM.fit(X_train, Y_train) \n",
    "Y_SVM_train=SVM.predict(X_train)\n",
    "Y_SVM_val=SVM.predict(X_val)\n",
    "Y_SVM_test=SVM.predict(X_test)\n",
    "accuracy_SVM_train = accuracy_score(Y_train,Y_SVM_train, normalize=True)\n",
    "accuracy_SVM_val=accuracy_score(Y_val, Y_SVM_val, normalize=True)\n",
    "accuracy_SVM_test = accuracy_score(Y_test,Y_SVM_test, normalize=True) \n",
    "print('Accuracy train:',accuracy_SVM_train)\n",
    "print('Accuracy val:',accuracy_SVM_val)\n",
    "print('Accuracy test:',accuracy_SVM_test)"
   ]
  },
  {
   "cell_type": "code",
   "execution_count": 24,
   "metadata": {
    "id": "ETlC3tQjmQnl",
    "colab_type": "code",
    "colab": {
     "base_uri": "https://localhost:8080/",
     "height": 124.0
    },
    "outputId": "9131e30e-552d-4d8b-b115-cd2c6d8bfd16",
    "executionInfo": {
     "status": "ok",
     "timestamp": 1.574554423615E12,
     "user_tz": -60.0,
     "elapsed": 270830.0,
     "user": {
      "displayName": "THAY Daniel",
      "photoUrl": "",
      "userId": "08618153734985027049"
     }
    }
   },
   "outputs": [
    {
     "name": "stderr",
     "output_type": "stream",
     "text": [
      "/usr/local/lib/python3.6/dist-packages/sklearn/svm/base.py:241: ConvergenceWarning: Solver terminated early (max_iter=1000000).  Consider pre-processing your data with StandardScaler or MinMaxScaler.\n",
      "  % self.max_iter, ConvergenceWarning)\n"
     ]
    },
    {
     "name": "stdout",
     "output_type": "stream",
     "text": [
      "Accuracy train: 0.7785238095238095\n",
      "Accuracy val: 0.7773333333333333\n",
      "Accuracy test: 0.7831111111111111\n"
     ]
    }
   ],
   "source": [
    "SVM = SVC(C=1,gamma='scale',kernel='poly', max_iter=1000000)\n",
    "SVM.fit(X_train, Y_train) \n",
    "Y_SVM_train=SVM.predict(X_train)\n",
    "Y_SVM_val=SVM.predict(X_val)\n",
    "Y_SVM_test=SVM.predict(X_test)\n",
    "accuracy_SVM_train = accuracy_score(Y_train,Y_SVM_train, normalize=True)\n",
    "accuracy_SVM_val=accuracy_score(Y_val, Y_SVM_val, normalize=True)\n",
    "accuracy_SVM_test = accuracy_score(Y_test,Y_SVM_test, normalize=True) \n",
    "print('Accuracy train:',accuracy_SVM_train)\n",
    "print('Accuracy val:',accuracy_SVM_val)\n",
    "print('Accuracy test:',accuracy_SVM_test)"
   ]
  },
  {
   "cell_type": "markdown",
   "metadata": {
    "id": "LEKhA_55w5Cy",
    "colab_type": "text"
   },
   "source": [
    "On choisissant un gamma à auto, on a un overfitting.\n",
    "En changeant avec un gamma en scale avec un kernel différent on se retrouve avec un résultat plus convenable mais on se rapproche de l'underfitting. "
   ]
  },
  {
   "cell_type": "markdown",
   "metadata": {
    "id": "kdS-9WcYsAVh",
    "colab_type": "text"
   },
   "source": [
    "## Logistic Regression\n"
   ]
  },
  {
   "cell_type": "code",
   "execution_count": 31,
   "metadata": {
    "id": "9pQI4N_8sEfo",
    "colab_type": "code",
    "colab": {
     "base_uri": "https://localhost:8080/",
     "height": 69.0
    },
    "outputId": "ae582c93-8b1a-43ba-9a1e-b34adeb0522c",
    "executionInfo": {
     "status": "ok",
     "timestamp": 1.574554861296E12,
     "user_tz": -60.0,
     "elapsed": 17672.0,
     "user": {
      "displayName": "THAY Daniel",
      "photoUrl": "",
      "userId": "08618153734985027049"
     }
    }
   },
   "outputs": [
    {
     "name": "stdout",
     "output_type": "stream",
     "text": [
      "Accuracy train: 0.7780476190476191\n",
      "Accuracy val: 0.7775555555555556\n",
      "Accuracy test: 0.7831111111111111\n"
     ]
    }
   ],
   "source": [
    "from sklearn.linear_model import LogisticRegression\n",
    "LR = LogisticRegression(random_state=0, solver='lbfgs',multi_class='multinomial',max_iter=10000)\n",
    "LR.fit(X_train,Y_train)\n",
    "Y_LR_train=LR.predict(X_train)\n",
    "Y_LR_val=LR.predict(X_val)\n",
    "Y_LR_test=LR.predict(X_test)\n",
    "accuracy_LR_train = accuracy_score(Y_train,Y_LR_train, normalize=True) \n",
    "accuracy_LR_val = accuracy_score(Y_val,Y_LR_val, normalize=True) \n",
    "accuracy_LR_test = accuracy_score(Y_test,Y_LR_test, normalize=True) \n",
    "print('Accuracy train:',accuracy_LR_train)\n",
    "print('Accuracy val:',accuracy_LR_val)\n",
    "print('Accuracy test:',accuracy_LR_test)"
   ]
  },
  {
   "cell_type": "code",
   "execution_count": 30,
   "metadata": {
    "id": "MQHRya5exq-t",
    "colab_type": "code",
    "colab": {
     "base_uri": "https://localhost:8080/",
     "height": 228.0
    },
    "outputId": "27efbf68-22db-4077-c78e-35792f93263a",
    "executionInfo": {
     "status": "ok",
     "timestamp": 1.574554859268E12,
     "user_tz": -60.0,
     "elapsed": 20226.0,
     "user": {
      "displayName": "THAY Daniel",
      "photoUrl": "",
      "userId": "08618153734985027049"
     }
    }
   },
   "outputs": [
    {
     "name": "stderr",
     "output_type": "stream",
     "text": [
      "/usr/local/lib/python3.6/dist-packages/scipy/optimize/linesearch.py:466: LineSearchWarning: The line search algorithm did not converge\n",
      "  warn('The line search algorithm did not converge', LineSearchWarning)\n",
      "/usr/local/lib/python3.6/dist-packages/scipy/optimize/linesearch.py:314: LineSearchWarning: The line search algorithm did not converge\n",
      "  warn('The line search algorithm did not converge', LineSearchWarning)\n"
     ]
    },
    {
     "name": "stdout",
     "output_type": "stream",
     "text": [
      "Accuracy train: 0.811047619047619\n",
      "Accuracy val: 0.8088888888888889\n",
      "Accuracy test: 0.8166666666666667\n"
     ]
    },
    {
     "name": "stderr",
     "output_type": "stream",
     "text": [
      "/usr/local/lib/python3.6/dist-packages/scipy/optimize/linesearch.py:426: LineSearchWarning: Rounding errors prevent the line search from converging\n",
      "  warn(msg, LineSearchWarning)\n",
      "/usr/local/lib/python3.6/dist-packages/sklearn/utils/optimize.py:195: UserWarning: Line Search failed\n",
      "  warnings.warn('Line Search failed')\n"
     ]
    }
   ],
   "source": [
    "from sklearn.linear_model import LogisticRegression\n",
    "LR = LogisticRegression(random_state=0, solver='newton-cg',multi_class='multinomial',max_iter=10000)\n",
    "LR.fit(X_train,Y_train)\n",
    "Y_LR_train=LR.predict(X_train)\n",
    "Y_LR_val=LR.predict(X_val)\n",
    "Y_LR_test=LR.predict(X_test)\n",
    "accuracy_LR_train = accuracy_score(Y_train,Y_LR_train, normalize=True) \n",
    "accuracy_LR_val = accuracy_score(Y_val,Y_LR_val, normalize=True) \n",
    "accuracy_LR_test = accuracy_score(Y_test,Y_LR_test, normalize=True) \n",
    "print('Accuracy train:',accuracy_LR_train)\n",
    "print('Accuracy val:',accuracy_LR_val)\n",
    "print('Accuracy test:',accuracy_LR_test)"
   ]
  },
  {
   "cell_type": "code",
   "execution_count": 0,
   "metadata": {
    "colab_type": "code",
    "outputId": "950482d1-09d1-4327-ac1a-c87164ff08c3",
    "executionInfo": {
     "status": "ok",
     "timestamp": 1.574555214395E12,
     "user_tz": -60.0,
     "elapsed": 119123.0,
     "user": {
      "displayName": "THAY Daniel",
      "photoUrl": "",
      "userId": "08618153734985027049"
     }
    },
    "id": "PWMCJg5lz1pF",
    "colab": {
     "base_uri": "https://localhost:8080/",
     "height": 69.0
    }
   },
   "outputs": [
    {
     "name": "stdout",
     "output_type": "stream",
     "text": [
      "Accuracy train: 0.7780952380952381\n",
      "Accuracy val: 0.7775555555555556\n",
      "Accuracy test: 0.7831111111111111\n"
     ]
    }
   ],
   "source": [
    "LR = LogisticRegression(random_state=0, solver='saga',multi_class='multinomial',max_iter=10000)\n",
    "LR.fit(X_train,Y_train)\n",
    "Y_LR_train=LR.predict(X_train)\n",
    "Y_LR_val=LR.predict(X_val)\n",
    "Y_LR_test=LR.predict(X_test)\n",
    "accuracy_LR_train = accuracy_score(Y_train,Y_LR_train, normalize=True) \n",
    "accuracy_LR_val = accuracy_score(Y_val,Y_LR_val, normalize=True) \n",
    "accuracy_LR_test = accuracy_score(Y_test,Y_LR_test, normalize=True) \n",
    "print('Accuracy train:',accuracy_LR_train)\n",
    "print('Accuracy val:',accuracy_LR_val)\n",
    "print('Accuracy test:',accuracy_LR_test)"
   ]
  },
  {
   "cell_type": "markdown",
   "metadata": {
    "id": "0pbI5kC40LFW",
    "colab_type": "text"
   },
   "source": [
    "On choisissant des solver différents, on remarque que le newton est celui qui donne le résultat les plus convenables. En effet, les deux autres pourraient s'apparenter à de l'underfitting car la précision d'entraînement est en dessous de 80%."
   ]
  },
  {
   "cell_type": "markdown",
   "metadata": {
    "id": "QshFSKCYsFoS",
    "colab_type": "text"
   },
   "source": [
    "## Neural networks"
   ]
  },
  {
   "cell_type": "markdown",
   "metadata": {
    "id": "E8nNuhFsddbg",
    "colab_type": "text"
   },
   "source": [
    "MLP"
   ]
  },
  {
   "cell_type": "code",
   "execution_count": 38,
   "metadata": {
    "id": "3IPgvCpCr7qN",
    "colab_type": "code",
    "outputId": "31b058d8-d6c6-41ad-fbaa-47e75f49c242",
    "executionInfo": {
     "status": "ok",
     "timestamp": 1.574555721523E12,
     "user_tz": -60.0,
     "elapsed": 21341.0,
     "user": {
      "displayName": "THAY Daniel",
      "photoUrl": "",
      "userId": "08618153734985027049"
     }
    },
    "colab": {
     "base_uri": "https://localhost:8080/",
     "height": 1000.0
    }
   },
   "outputs": [
    {
     "name": "stdout",
     "output_type": "stream",
     "text": [
      "Model: \"sequential_5\"\n",
      "_________________________________________________________________\n",
      "Layer (type)                 Output Shape              Param #   \n",
      "=================================================================\n",
      "dense_13 (Dense)             (None, 10)                240       \n",
      "_________________________________________________________________\n",
      "dropout_9 (Dropout)          (None, 10)                0         \n",
      "_________________________________________________________________\n",
      "dense_14 (Dense)             (None, 10)                110       \n",
      "_________________________________________________________________\n",
      "dropout_10 (Dropout)         (None, 10)                0         \n",
      "_________________________________________________________________\n",
      "dense_15 (Dense)             (None, 1)                 11        \n",
      "=================================================================\n",
      "Total params: 361\n",
      "Trainable params: 361\n",
      "Non-trainable params: 0\n",
      "_________________________________________________________________\n",
      "Train on 21000 samples, validate on 4500 samples\n",
      "Epoch 1/20\n",
      "21000/21000 [==============================] - 1s 71us/step - loss: 4.6433 - acc: 0.7091 - val_loss: 3.5241 - val_acc: 0.7813\n",
      "Epoch 2/20\n",
      "21000/21000 [==============================] - 1s 46us/step - loss: 4.3843 - acc: 0.7251 - val_loss: 3.4958 - val_acc: 0.7831\n",
      "Epoch 3/20\n",
      "21000/21000 [==============================] - 1s 48us/step - loss: 4.2957 - acc: 0.7312 - val_loss: 3.4958 - val_acc: 0.7831\n",
      "Epoch 4/20\n",
      "21000/21000 [==============================] - 1s 47us/step - loss: 4.2871 - acc: 0.7312 - val_loss: 3.4923 - val_acc: 0.7833\n",
      "Epoch 5/20\n",
      "21000/21000 [==============================] - 1s 44us/step - loss: 4.2427 - acc: 0.7341 - val_loss: 3.4923 - val_acc: 0.7833\n",
      "Epoch 6/20\n",
      "21000/21000 [==============================] - 1s 50us/step - loss: 4.0792 - acc: 0.7448 - val_loss: 3.4958 - val_acc: 0.7831\n",
      "Epoch 7/20\n",
      "21000/21000 [==============================] - 1s 47us/step - loss: 4.1431 - acc: 0.7404 - val_loss: 3.4958 - val_acc: 0.7831\n",
      "Epoch 8/20\n",
      "21000/21000 [==============================] - 1s 49us/step - loss: 4.2231 - acc: 0.7353 - val_loss: 3.4958 - val_acc: 0.7831\n",
      "Epoch 9/20\n",
      "21000/21000 [==============================] - 1s 47us/step - loss: 4.1048 - acc: 0.7427 - val_loss: 3.4958 - val_acc: 0.7831\n",
      "Epoch 10/20\n",
      "21000/21000 [==============================] - 1s 47us/step - loss: 3.9951 - acc: 0.7500 - val_loss: 3.4923 - val_acc: 0.7833\n",
      "Epoch 11/20\n",
      "21000/21000 [==============================] - 1s 48us/step - loss: 3.7476 - acc: 0.7649 - val_loss: 3.4923 - val_acc: 0.7833\n",
      "Epoch 12/20\n",
      "21000/21000 [==============================] - 1s 46us/step - loss: 3.7001 - acc: 0.7684 - val_loss: 3.4923 - val_acc: 0.7833\n",
      "Epoch 13/20\n",
      "21000/21000 [==============================] - 1s 44us/step - loss: 3.6793 - acc: 0.7694 - val_loss: 3.4923 - val_acc: 0.7833\n",
      "Epoch 14/20\n",
      "21000/21000 [==============================] - 1s 44us/step - loss: 3.6617 - acc: 0.7707 - val_loss: 3.4923 - val_acc: 0.7833\n",
      "Epoch 15/20\n",
      "21000/21000 [==============================] - 1s 43us/step - loss: 3.6660 - acc: 0.7699 - val_loss: 3.4923 - val_acc: 0.7833\n",
      "Epoch 16/20\n",
      "21000/21000 [==============================] - 1s 42us/step - loss: 3.6983 - acc: 0.7692 - val_loss: 3.4923 - val_acc: 0.7833\n",
      "Epoch 17/20\n",
      "21000/21000 [==============================] - 1s 45us/step - loss: 3.7002 - acc: 0.7680 - val_loss: 3.4923 - val_acc: 0.7833\n",
      "Epoch 18/20\n",
      "21000/21000 [==============================] - 1s 49us/step - loss: 3.6535 - acc: 0.7709 - val_loss: 3.4923 - val_acc: 0.7833\n",
      "Epoch 19/20\n",
      "21000/21000 [==============================] - 1s 49us/step - loss: 3.6814 - acc: 0.7696 - val_loss: 3.4923 - val_acc: 0.7833\n",
      "Epoch 20/20\n",
      "21000/21000 [==============================] - 1s 47us/step - loss: 3.6027 - acc: 0.7741 - val_loss: 3.4923 - val_acc: 0.7833\n",
      "Test loss: 3.4922540122891412\n",
      "Test accuracy: 0.7833333332273695\n"
     ]
    }
   ],
   "source": [
    "import keras\n",
    "from keras.datasets import mnist\n",
    "from keras.models import Sequential\n",
    "from keras.layers import Dense, Dropout\n",
    "from keras.optimizers import RMSprop, SGD\n",
    "\n",
    "batch_size = 128\n",
    "epochs = 20\n",
    "\n",
    "model = Sequential()\n",
    "model.add(Dense(10, activation='relu', input_shape=(23,)))\n",
    "model.add(Dropout(0.2))\n",
    "model.add(Dense(10, activation='relu'))\n",
    "model.add(Dropout(0.2))\n",
    "model.add(Dense(1, activation='sigmoid'))\n",
    "\n",
    "model.summary()\n",
    "\n",
    "model.compile(loss='binary_crossentropy',\n",
    "              optimizer='Adam',\n",
    "              metrics=['accuracy'])\n",
    "\n",
    "history = model.fit(X_train, Y_train,\n",
    "                    batch_size=batch_size,\n",
    "                    epochs=epochs,\n",
    "                    verbose=1,\n",
    "                    validation_data=(X_test, Y_test))\n",
    "score = model.evaluate(X_test, Y_test, verbose=0)\n",
    "print('Test loss:', score[0])\n",
    "print('Test accuracy:', score[1])\n"
   ]
  },
  {
   "cell_type": "code",
   "execution_count": 40,
   "metadata": {
    "id": "Mm8klQnM0m2N",
    "colab_type": "code",
    "colab": {
     "base_uri": "https://localhost:8080/",
     "height": 1000.0
    },
    "outputId": "1120d04a-3e2c-4e70-945b-f4dbd0199288",
    "executionInfo": {
     "status": "ok",
     "timestamp": 1.57455579253E12,
     "user_tz": -60.0,
     "elapsed": 22418.0,
     "user": {
      "displayName": "THAY Daniel",
      "photoUrl": "",
      "userId": "08618153734985027049"
     }
    }
   },
   "outputs": [
    {
     "name": "stdout",
     "output_type": "stream",
     "text": [
      "Model: \"sequential_7\"\n",
      "_________________________________________________________________\n",
      "Layer (type)                 Output Shape              Param #   \n",
      "=================================================================\n",
      "dense_19 (Dense)             (None, 10)                240       \n",
      "_________________________________________________________________\n",
      "dropout_13 (Dropout)         (None, 10)                0         \n",
      "_________________________________________________________________\n",
      "dense_20 (Dense)             (None, 10)                110       \n",
      "_________________________________________________________________\n",
      "dropout_14 (Dropout)         (None, 10)                0         \n",
      "_________________________________________________________________\n",
      "dense_21 (Dense)             (None, 10)                110       \n",
      "_________________________________________________________________\n",
      "dropout_15 (Dropout)         (None, 10)                0         \n",
      "_________________________________________________________________\n",
      "dense_22 (Dense)             (None, 10)                110       \n",
      "_________________________________________________________________\n",
      "dropout_16 (Dropout)         (None, 10)                0         \n",
      "_________________________________________________________________\n",
      "dense_23 (Dense)             (None, 1)                 11        \n",
      "=================================================================\n",
      "Total params: 581\n",
      "Trainable params: 581\n",
      "Non-trainable params: 0\n",
      "_________________________________________________________________\n",
      "Train on 21000 samples, validate on 4500 samples\n",
      "Epoch 1/20\n",
      "21000/21000 [==============================] - 2s 78us/step - loss: 3.6459 - acc: 0.7723 - val_loss: 3.4923 - val_acc: 0.7833\n",
      "Epoch 2/20\n",
      "21000/21000 [==============================] - 1s 44us/step - loss: 3.5786 - acc: 0.7768 - val_loss: 3.4923 - val_acc: 0.7833\n",
      "Epoch 3/20\n",
      "21000/21000 [==============================] - 1s 44us/step - loss: 3.5558 - acc: 0.7777 - val_loss: 3.4923 - val_acc: 0.7833\n",
      "Epoch 4/20\n",
      "21000/21000 [==============================] - 1s 50us/step - loss: 3.5607 - acc: 0.7770 - val_loss: 3.4923 - val_acc: 0.7833\n",
      "Epoch 5/20\n",
      "21000/21000 [==============================] - 1s 50us/step - loss: 3.5626 - acc: 0.7773 - val_loss: 3.4923 - val_acc: 0.7833\n",
      "Epoch 6/20\n",
      "21000/21000 [==============================] - 1s 50us/step - loss: 3.5661 - acc: 0.7769 - val_loss: 3.4923 - val_acc: 0.7833\n",
      "Epoch 7/20\n",
      "21000/21000 [==============================] - 1s 50us/step - loss: 3.5619 - acc: 0.7769 - val_loss: 3.4923 - val_acc: 0.7833\n",
      "Epoch 8/20\n",
      "21000/21000 [==============================] - 1s 49us/step - loss: 3.5553 - acc: 0.7771 - val_loss: 3.4923 - val_acc: 0.7833\n",
      "Epoch 9/20\n",
      "21000/21000 [==============================] - 1s 48us/step - loss: 3.5463 - acc: 0.7770 - val_loss: 3.4923 - val_acc: 0.7833\n",
      "Epoch 10/20\n",
      "21000/21000 [==============================] - 1s 51us/step - loss: 3.5652 - acc: 0.7765 - val_loss: 3.4923 - val_acc: 0.7833\n",
      "Epoch 11/20\n",
      "21000/21000 [==============================] - 1s 47us/step - loss: 3.5589 - acc: 0.7771 - val_loss: 3.4923 - val_acc: 0.7833\n",
      "Epoch 12/20\n",
      "21000/21000 [==============================] - 1s 46us/step - loss: 3.5597 - acc: 0.7768 - val_loss: 3.4923 - val_acc: 0.7833\n",
      "Epoch 13/20\n",
      "21000/21000 [==============================] - 1s 51us/step - loss: 3.5583 - acc: 0.7770 - val_loss: 3.4923 - val_acc: 0.7833\n",
      "Epoch 14/20\n",
      "21000/21000 [==============================] - 1s 48us/step - loss: 3.5619 - acc: 0.7770 - val_loss: 3.4923 - val_acc: 0.7833\n",
      "Epoch 15/20\n",
      "21000/21000 [==============================] - 1s 52us/step - loss: 3.5649 - acc: 0.7768 - val_loss: 3.4923 - val_acc: 0.7833\n",
      "Epoch 16/20\n",
      "21000/21000 [==============================] - 1s 48us/step - loss: 3.5607 - acc: 0.7774 - val_loss: 3.4923 - val_acc: 0.7833\n",
      "Epoch 17/20\n",
      "21000/21000 [==============================] - 1s 50us/step - loss: 3.5716 - acc: 0.7764 - val_loss: 3.4923 - val_acc: 0.7833\n",
      "Epoch 18/20\n",
      "21000/21000 [==============================] - 1s 52us/step - loss: 3.5625 - acc: 0.7767 - val_loss: 3.4923 - val_acc: 0.7833\n",
      "Epoch 19/20\n",
      "21000/21000 [==============================] - 1s 48us/step - loss: 3.5721 - acc: 0.7762 - val_loss: 3.4923 - val_acc: 0.7833\n",
      "Epoch 20/20\n",
      "21000/21000 [==============================] - 1s 52us/step - loss: 3.5733 - acc: 0.7766 - val_loss: 3.4923 - val_acc: 0.7833\n",
      "Test loss: 3.4922540122891412\n",
      "Test accuracy: 0.7833333332273695\n"
     ]
    }
   ],
   "source": [
    "batch_size = 128\n",
    "epochs = 20\n",
    "\n",
    "model = Sequential()\n",
    "model.add(Dense(10, activation='relu', input_shape=(23,)))\n",
    "model.add(Dropout(0.2))\n",
    "model.add(Dense(10, activation='relu'))\n",
    "model.add(Dropout(0.2))\n",
    "model.add(Dense(10, activation='relu'))\n",
    "model.add(Dropout(0.2))\n",
    "model.add(Dense(10, activation='relu'))\n",
    "model.add(Dropout(0.2))\n",
    "model.add(Dense(1, activation='sigmoid'))\n",
    "\n",
    "model.summary()\n",
    "sgd = SGD(lr=0.01, decay=1e-6, momentum=0.9, nesterov=True)\n",
    "model.compile(loss='binary_crossentropy',\n",
    "              optimizer=sgd,\n",
    "              metrics=['accuracy'])\n",
    "\n",
    "history = model.fit(X_train, Y_train,\n",
    "                    batch_size=batch_size,\n",
    "                    epochs=epochs,\n",
    "                    verbose=1,\n",
    "                    validation_data=(X_test, Y_test))\n",
    "score = model.evaluate(X_test, Y_test, verbose=0)\n",
    "print('Test loss:', score[0])\n",
    "print('Test accuracy:', score[1])"
   ]
  },
  {
   "cell_type": "markdown",
   "metadata": {
    "id": "yyCZAtfx2D7z",
    "colab_type": "text"
   },
   "source": [
    "Avec les réseaux de neurones, on choisit quelle fonction d'optimisation on veut. On trouve à peu près les mêmes résultats concernant la précision des tests."
   ]
  }
 ],
 "metadata": {
  "colab": {
   "name": "3SyM_Credit_Card.ipynb",
   "provenance": [],
   "collapsed_sections": [],
   "toc_visible": true
  },
  "kernelspec": {
   "name": "python3",
   "display_name": "Python 3"
  },
  "accelerator": "GPU"
 },
 "nbformat": 4,
 "nbformat_minor": 0
}
