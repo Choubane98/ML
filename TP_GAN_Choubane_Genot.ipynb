{
  "nbformat": 4,
  "nbformat_minor": 0,
  "metadata": {
    "colab": {
      "name": "TP GAN.ipynb",
      "version": "0.3.2",
      "provenance": [],
      "collapsed_sections": []
    },
    "kernelspec": {
      "name": "python3",
      "display_name": "Python 3"
    },
    "accelerator": "GPU"
  },
  "cells": [
    {
      "metadata": {
        "id": "NZkOIWI-pxAW",
        "colab_type": "code",
        "outputId": "fcfeb6a2-f639-4724-8035-d1db172a45de",
        "colab": {
          "base_uri": "https://localhost:8080/",
          "height": 52
        }
      },
      "cell_type": "code",
      "source": [
        "import tensorflow\n",
        "import keras\n",
        "print (keras.__version__)"
      ],
      "execution_count": 0,
      "outputs": [
        {
          "output_type": "stream",
          "text": [
            "2.2.4\n"
          ],
          "name": "stdout"
        },
        {
          "output_type": "stream",
          "text": [
            "Using TensorFlow backend.\n"
          ],
          "name": "stderr"
        }
      ]
    },
    {
      "metadata": {
        "id": "tOdQTInl4NKM",
        "colab_type": "text"
      },
      "cell_type": "markdown",
      "source": [
        "# 1.1 Imports from Keras"
      ]
    },
    {
      "metadata": {
        "id": "9Hl9lGUGqPxq",
        "colab_type": "code",
        "colab": {}
      },
      "cell_type": "code",
      "source": [
        "from keras.layers import Input\n",
        "from keras.layers import Dense\n",
        "from keras.layers import Conv2D\n",
        "from keras.layers import Conv2DTranspose\n",
        "from keras.layers import BatchNormalization\n",
        "from keras.layers import Activation\n",
        "from keras.layers import Flatten\n",
        "from keras.layers import Reshape\n",
        "from keras.layers import MaxPooling2D\n",
        "from keras.layers import UpSampling2D\n",
        "from keras.optimizers import Adam\n",
        "from keras.utils import to_categorical\n",
        "from keras.datasets import mnist\n",
        "from keras.datasets import cifar10\n",
        "from keras import Sequential\n",
        "from keras import Model\n",
        "# Useful imports\n",
        "import matplotlib as mpl\n",
        "#mpl.use(\"Agg\") # Uncomment this if you have problems to use plt.imshow\n",
        "# In that case, replace plt.imshow by plt.imsave(’filename.png’, var),\n",
        "# so the image will be saved to a file instead of displayed.\n",
        "import matplotlib.pyplot as plt  # For plotting/saving images\n",
        "import numpy as np"
      ],
      "execution_count": 0,
      "outputs": []
    },
    {
      "metadata": {
        "id": "ujxC3wcJ4VVK",
        "colab_type": "text"
      },
      "cell_type": "markdown",
      "source": [
        "# 1.2 Loading the MNIST dataset"
      ]
    },
    {
      "metadata": {
        "id": "Du8l5buIqkZa",
        "colab_type": "code",
        "outputId": "9f2dd9d2-3e9d-4439-81c0-87c3a8dd163d",
        "colab": {
          "base_uri": "https://localhost:8080/",
          "height": 451
        }
      },
      "cell_type": "code",
      "source": [
        "# Load the MNIST dataset\n",
        "(x_train, y_train), (x_test, y_test) = mnist.load_data()\n",
        "# Image normalization\n",
        "x_train = x_train / 127.5 - 1\n",
        "x_test = x_test / 127.5 - 1\n",
        "# Add one dimmention for the grayscale channel\n",
        "x_train = np.expand_dims(x_train, axis=-1)\n",
        "x_test = np.expand_dims(x_test, axis=-1)\n",
        "# Labels to categorical (one hot)\n",
        "y_train_cat = to_categorical(y_train, num_classes=10)\n",
        "y_test_cat = to_categorical(y_test, num_classes=10)\n",
        "# Display dataset info\n",
        "print (\"Train set shape:\", x_train.shape)\n",
        "print (\"Test set shape:\", x_test.shape)\n",
        "print (\"Train categorical labels shape:\", y_train_cat.shape)\n",
        "print (\"Test categorical labels shape:\", y_test_cat.shape)\n",
        "# Show one example\n",
        "print (y_test[1], y_test_cat[1])\n",
        "plt.imshow(x_test[1,:,:,0])"
      ],
      "execution_count": 0,
      "outputs": [
        {
          "output_type": "stream",
          "text": [
            "Train set shape: (60000, 28, 28, 1)\n",
            "Test set shape: (10000, 28, 28, 1)\n",
            "Train categorical labels shape: (60000, 10)\n",
            "Test categorical labels shape: (10000, 10)\n",
            "2 [0. 0. 1. 0. 0. 0. 0. 0. 0. 0.]\n"
          ],
          "name": "stdout"
        },
        {
          "output_type": "execute_result",
          "data": {
            "text/plain": [
              "<matplotlib.image.AxesImage at 0x7f333ac4ae10>"
            ]
          },
          "metadata": {
            "tags": []
          },
          "execution_count": 28
        },
        {
          "output_type": "display_data",
          "data": {
            "image/png": "[encoded data removed]",
            "text/plain": [
              "<Figure size 576x396 with 1 Axes>"
            ]
          },
          "metadata": {
            "tags": []
          }
        }
      ]
    },
    {
      "metadata": {
        "id": "LhZlvdLS4gp0",
        "colab_type": "text"
      },
      "cell_type": "markdown",
      "source": [
        "# 2. Image classification"
      ]
    },
    {
      "metadata": {
        "id": "685EfrIO4kU8",
        "colab_type": "text"
      },
      "cell_type": "markdown",
      "source": [
        "# 2.1 Multilayer Perceptron"
      ]
    },
    {
      "metadata": {
        "id": "iEG46gOAwFKg",
        "colab_type": "code",
        "outputId": "4c08d7eb-38b8-45b4-8bbe-03d3dea349e7",
        "colab": {
          "base_uri": "https://localhost:8080/",
          "height": 416
        }
      },
      "cell_type": "code",
      "source": [
        "# Discriminator using DNN\n",
        "D = Sequential(name=\"Discriminator\")\n",
        "# Layer 1\n",
        "D.add(Flatten(input_shape=(28, 28, 1)))\n",
        "D.add(Dense(1024))\n",
        "D.add(BatchNormalization())\n",
        "D.add(Activation(\"relu\"))\n",
        "# Layer 2\n",
        "D.add(Dense(10))\n",
        "D.add(Activation(\"softmax\"))\n",
        "D.compile(loss=\"categorical_crossentropy\", optimizer=Adam(0.0001, 0.5), metrics=[\"accuracy\"])\n",
        "D.summary()\n",
        "D.fit(x_train, y_train_cat, validation_data=(x_test, y_test_cat))"
      ],
      "execution_count": 0,
      "outputs": [
        {
          "output_type": "stream",
          "text": [
            "_________________________________________________________________\n",
            "Layer (type)                 Output Shape              Param #   \n",
            "=================================================================\n",
            "flatten_8 (Flatten)          (None, 784)               0         \n",
            "_________________________________________________________________\n",
            "dense_29 (Dense)             (None, 1024)              803840    \n",
            "_________________________________________________________________\n",
            "batch_normalization_6 (Batch (None, 1024)              4096      \n",
            "_________________________________________________________________\n",
            "activation_49 (Activation)   (None, 1024)              0         \n",
            "_________________________________________________________________\n",
            "dense_30 (Dense)             (None, 10)                10250     \n",
            "_________________________________________________________________\n",
            "activation_50 (Activation)   (None, 10)                0         \n",
            "=================================================================\n",
            "Total params: 818,186\n",
            "Trainable params: 816,138\n",
            "Non-trainable params: 2,048\n",
            "_________________________________________________________________\n",
            "Train on 60000 samples, validate on 10000 samples\n",
            "Epoch 1/1\n",
            "60000/60000 [==============================] - 16s 260us/step - loss: 0.2835 - acc: 0.9203 - val_loss: 0.1499 - val_acc: 0.9573\n"
          ],
          "name": "stdout"
        },
        {
          "output_type": "execute_result",
          "data": {
            "text/plain": [
              "<keras.callbacks.History at 0x7f3339a0d4e0>"
            ]
          },
          "metadata": {
            "tags": []
          },
          "execution_count": 29
        }
      ]
    },
    {
      "metadata": {
        "id": "wCk1826o4ti8",
        "colab_type": "text"
      },
      "cell_type": "markdown",
      "source": [
        "# 2.2 Convolutional neural networks"
      ]
    },
    {
      "metadata": {
        "id": "ypp0kWPcxgVY",
        "colab_type": "code",
        "outputId": "32527486-33f6-48fe-fd10-fcb0539c1c70",
        "colab": {
          "base_uri": "https://localhost:8080/",
          "height": 590
        }
      },
      "cell_type": "code",
      "source": [
        "# Discriminator using CNN\n",
        "D = Sequential(name=\"Discriminator\")\n",
        "# Layer 1\n",
        "D.add(Conv2D(32, (5, 5), strides=(2, 2), padding=\"same\", input_shape=(28, 28, 1)))\n",
        "D.add(Activation(\"relu\"))\n",
        "# Layer 2\n",
        "D.add(Conv2D(64, (5, 5), strides=(2, 2), padding=\"same\"))\n",
        "D.add(Activation(\"relu\"))\n",
        "# Layer 3\n",
        "D.add(Conv2D(128, (5, 5), strides=(2, 2), padding=\"same\"))\n",
        "D.add(Activation(\"relu\"))\n",
        "# Layer 4\n",
        "D.add(Flatten())\n",
        "D.add(Dense(128))\n",
        "D.add(Activation(\"relu\"))\n",
        "# Layer 5\n",
        "D.add(Dense(10))\n",
        "D.add(Activation(\"softmax\"))\n",
        "D.compile(loss=\"categorical_crossentropy\", optimizer=Adam(0.0001, 0.5), metrics=[\"accuracy\"])\n",
        "D.summary()\n",
        "D.fit(x_train, y_train_cat, validation_data=(x_test, y_test_cat))"
      ],
      "execution_count": 0,
      "outputs": [
        {
          "output_type": "stream",
          "text": [
            "_________________________________________________________________\n",
            "Layer (type)                 Output Shape              Param #   \n",
            "=================================================================\n",
            "conv2d_19 (Conv2D)           (None, 14, 14, 32)        832       \n",
            "_________________________________________________________________\n",
            "activation_51 (Activation)   (None, 14, 14, 32)        0         \n",
            "_________________________________________________________________\n",
            "conv2d_20 (Conv2D)           (None, 7, 7, 64)          51264     \n",
            "_________________________________________________________________\n",
            "activation_52 (Activation)   (None, 7, 7, 64)          0         \n",
            "_________________________________________________________________\n",
            "conv2d_21 (Conv2D)           (None, 4, 4, 128)         204928    \n",
            "_________________________________________________________________\n",
            "activation_53 (Activation)   (None, 4, 4, 128)         0         \n",
            "_________________________________________________________________\n",
            "flatten_9 (Flatten)          (None, 2048)              0         \n",
            "_________________________________________________________________\n",
            "dense_31 (Dense)             (None, 128)               262272    \n",
            "_________________________________________________________________\n",
            "activation_54 (Activation)   (None, 128)               0         \n",
            "_________________________________________________________________\n",
            "dense_32 (Dense)             (None, 10)                1290      \n",
            "_________________________________________________________________\n",
            "activation_55 (Activation)   (None, 10)                0         \n",
            "=================================================================\n",
            "Total params: 520,586\n",
            "Trainable params: 520,586\n",
            "Non-trainable params: 0\n",
            "_________________________________________________________________\n",
            "Train on 60000 samples, validate on 10000 samples\n",
            "Epoch 1/1\n",
            "60000/60000 [==============================] - 21s 355us/step - loss: 0.2873 - acc: 0.9153 - val_loss: 0.1076 - val_acc: 0.9661\n"
          ],
          "name": "stdout"
        },
        {
          "output_type": "execute_result",
          "data": {
            "text/plain": [
              "<keras.callbacks.History at 0x7f333940b550>"
            ]
          },
          "metadata": {
            "tags": []
          },
          "execution_count": 30
        }
      ]
    },
    {
      "metadata": {
        "id": "4wGXJM4n40ES",
        "colab_type": "text"
      },
      "cell_type": "markdown",
      "source": [
        "# 3 Artificial image generation"
      ]
    },
    {
      "metadata": {
        "id": "0GGC8rZc42ec",
        "colab_type": "text"
      },
      "cell_type": "markdown",
      "source": [
        "# 3.1 GAN with fully-connected layers"
      ]
    },
    {
      "metadata": {
        "id": "P3UIU5n72wWg",
        "colab_type": "code",
        "outputId": "a4d2c6ae-47d7-4763-fe75-7fc60d04a913",
        "colab": {
          "base_uri": "https://localhost:8080/",
          "height": 382
        }
      },
      "cell_type": "code",
      "source": [
        "G = Sequential(name=\"Generator\")\n",
        "# Layer 1\n",
        "G.add(Dense(256, input_shape=(100,)))\n",
        "G.add(BatchNormalization())\n",
        "G.add(Activation(\"relu\"))\n",
        "# Layer 2\n",
        "G.add(Dense(512))\n",
        "G.add(Activation(\"relu\"))\n",
        "# Layer 3\n",
        "G.add(Dense(784))\n",
        "G.add(Activation(\"softmax\"))\n",
        "G.compile(loss=\"categorical_crossentropy\", optimizer=Adam(0.0001, 0.5), metrics=[\"accuracy\"])\n",
        "G.summary()\n",
        "# Add here some more layers...\n",
        "G.add(Reshape((28, 28, 1))) # The output has the shape of an image"
      ],
      "execution_count": 0,
      "outputs": [
        {
          "output_type": "stream",
          "text": [
            "_________________________________________________________________\n",
            "Layer (type)                 Output Shape              Param #   \n",
            "=================================================================\n",
            "dense_33 (Dense)             (None, 256)               25856     \n",
            "_________________________________________________________________\n",
            "batch_normalization_7 (Batch (None, 256)               1024      \n",
            "_________________________________________________________________\n",
            "activation_56 (Activation)   (None, 256)               0         \n",
            "_________________________________________________________________\n",
            "dense_34 (Dense)             (None, 512)               131584    \n",
            "_________________________________________________________________\n",
            "activation_57 (Activation)   (None, 512)               0         \n",
            "_________________________________________________________________\n",
            "dense_35 (Dense)             (None, 784)               402192    \n",
            "_________________________________________________________________\n",
            "activation_58 (Activation)   (None, 784)               0         \n",
            "=================================================================\n",
            "Total params: 560,656\n",
            "Trainable params: 560,144\n",
            "Non-trainable params: 512\n",
            "_________________________________________________________________\n"
          ],
          "name": "stdout"
        }
      ]
    },
    {
      "metadata": {
        "id": "vTgfCm7M8GoC",
        "colab_type": "code",
        "outputId": "055695e1-7e88-4391-f83c-244daf1d1b0c",
        "colab": {
          "base_uri": "https://localhost:8080/",
          "height": 243
        }
      },
      "cell_type": "code",
      "source": [
        "G = Sequential()\n",
        "# Layer 1\n",
        "G.add(Dense(256, input_shape=(100,)))\n",
        "G.add(BatchNormalization())\n",
        "G.add(Activation(\"relu\"))\n",
        "# Layer 2\n",
        "G.add(Dense(512, input_shape=(256,)))\n",
        "G.add(Activation(\"relu\"))\n",
        "# Layer 3\n",
        "G.add(Dense(784, input_shape=(512,)))\n",
        "G.add(Activation(\"tanh\"))\n",
        "G.add(Reshape((28, 28, 1))) # The output has the shape of an image\n",
        "\n",
        "D = Sequential()\n",
        "# Layer 1\n",
        "D.add(Conv2D(32, (5, 5), strides=(2, 2), padding=\"same\", input_shape=(28, 28, 1)))\n",
        "D.add(Activation(\"relu\"))\n",
        "# Layer 2\n",
        "D.add(Conv2D(64, (5, 5), strides=(2, 2), padding=\"same\"))\n",
        "D.add(Activation(\"relu\"))\n",
        "# Layer 3\n",
        "D.add(Conv2D(128, (5, 5), strides=(2, 2), padding=\"same\"))\n",
        "D.add(Activation(\"relu\"))\n",
        "# Layer 4\n",
        "D.add(Flatten())\n",
        "D.add(Dense(128))\n",
        "D.add(Activation(\"relu\"))\n",
        "# Layer 5\n",
        "D.add(Dense(1))\n",
        "D.add(Activation(\"sigmoid\"))\n",
        "\n",
        "\n",
        "\n",
        "D.compile(loss=\"binary_crossentropy\", optimizer=Adam(0.0001, 0.5))\n",
        "D.trainable = False\n",
        "gan_input = Input(shape=(100,))\n",
        "gan_output = D(G(gan_input))\n",
        "gan = Model(gan_input, gan_output) # This is the combined model\n",
        "gan.compile(loss=\"binary_crossentropy\", optimizer=Adam(0.0001, 0.5))\n",
        "gan.summary()"
      ],
      "execution_count": 0,
      "outputs": [
        {
          "output_type": "stream",
          "text": [
            "_________________________________________________________________\n",
            "Layer (type)                 Output Shape              Param #   \n",
            "=================================================================\n",
            "input_6 (InputLayer)         (None, 100)               0         \n",
            "_________________________________________________________________\n",
            "sequential_13 (Sequential)   (None, 28, 28, 1)         560656    \n",
            "_________________________________________________________________\n",
            "sequential_14 (Sequential)   (None, 1)                 519425    \n",
            "=================================================================\n",
            "Total params: 1,080,081\n",
            "Trainable params: 560,144\n",
            "Non-trainable params: 519,937\n",
            "_________________________________________________________________\n"
          ],
          "name": "stdout"
        }
      ]
    },
    {
      "metadata": {
        "id": "Oy3udqZcBZ_w",
        "colab_type": "code",
        "outputId": "053cf4eb-f9f7-4170-a66d-2aa0b4269990",
        "colab": {
          "base_uri": "https://localhost:8080/",
          "height": 364
        }
      },
      "cell_type": "code",
      "source": [
        "batch_size = 64\n",
        "x_train_c = x_train[np.where(y_train == 4)[0]] # Lets train only for numbers 4\n",
        "num_batches = int(len(x_train_c) / batch_size)\n",
        "for epoch in range(20):\n",
        "  for batch in range(num_batches):\n",
        "    # Select a random batch from x_train_c\n",
        "    x = x_train_c[np.random.randint(0, len(x_train_c), size=batch_size)]\n",
        "    # Gaussian noise for the generator model\n",
        "    noise = np.random.normal(0, 1, size=[batch_size, 100])\n",
        "    # Generate fake images\n",
        "    gen_imgs = G.predict(noise)\n",
        "    disc_data = np.concatenate([x, gen_imgs])\n",
        "    # True images are labeled 1, false ones are 0\n",
        "    labels = [0.9]*batch_size + [0]*batch_size\n",
        "    D.trainable = True\n",
        "    dloss = D.train_on_batch(disc_data, labels)\n",
        "    D.trainable = False # Freeze the discriminator\n",
        "    gloss = gan.train_on_batch(noise, [1]*batch_size)\n",
        "    print (\"\\b\"*79 + \"\\r\", end=\"\")\n",
        "    print (\"Epoch %d, batch %d/%d: \" % (epoch+1, batch, num_batches) + \\\n",
        "    \" gloss=%.4f, dloss=%.4f\" % (gloss, dloss), end=\"\")\n",
        "  print (\"\")\n",
        "# Save the weights after training\n",
        "G.save_weights(\"./gen_weights.hdf5\")\n",
        "D.save_weights(\"./disc_weights.hdf5\")"
      ],
      "execution_count": 0,
      "outputs": [
        {
          "output_type": "stream",
          "text": [
            "Epoch 1, batch 90/91:  gloss=1.3251, dloss=0.3970\n",
            "Epoch 2, batch 90/91:  gloss=3.0834, dloss=0.3025\n",
            "Epoch 3, batch 90/91:  gloss=2.4940, dloss=0.2800\n",
            "Epoch 4, batch 90/91:  gloss=3.0066, dloss=0.2661\n",
            "Epoch 5, batch 90/91:  gloss=3.1003, dloss=0.2359\n",
            "Epoch 6, batch 90/91:  gloss=2.9559, dloss=0.3019\n",
            "Epoch 7, batch 90/91:  gloss=2.8797, dloss=0.2588\n",
            "Epoch 8, batch 90/91:  gloss=2.9171, dloss=0.2441\n",
            "Epoch 9, batch 90/91:  gloss=3.2677, dloss=0.2204\n",
            "Epoch 10, batch 90/91:  gloss=2.6700, dloss=0.2591\n",
            "Epoch 11, batch 90/91:  gloss=3.8311, dloss=0.2408\n",
            "Epoch 12, batch 90/91:  gloss=3.5361, dloss=0.2325\n",
            "Epoch 13, batch 90/91:  gloss=3.3127, dloss=0.2259\n",
            "Epoch 14, batch 90/91:  gloss=3.3236, dloss=0.2217\n",
            "Epoch 15, batch 90/91:  gloss=2.5389, dloss=0.2729\n",
            "Epoch 16, batch 90/91:  gloss=3.4253, dloss=0.2151\n",
            "Epoch 17, batch 90/91:  gloss=4.7043, dloss=0.1820\n",
            "Epoch 18, batch 90/91:  gloss=3.2407, dloss=0.2182\n",
            "Epoch 19, batch 90/91:  gloss=3.1585, dloss=0.2219\n",
            "Epoch 20, batch 90/91:  gloss=3.1956, dloss=0.2180\n"
          ],
          "name": "stdout"
        }
      ]
    },
    {
      "metadata": {
        "id": "dOOMQ71fHiMW",
        "colab_type": "code",
        "outputId": "10c26310-ed78-4e04-84ff-04d7e92e18d5",
        "colab": {
          "base_uri": "https://localhost:8080/",
          "height": 1337
        }
      },
      "cell_type": "code",
      "source": [
        "noise = np.random.normal(0, 1, size=[4, 100])\n",
        "gen_imgs = G.predict(noise)\n",
        "for i in range(len(noise)):\n",
        "  plt.imshow((gen_imgs[i,:,:,0] + 1) / 2)\n",
        "  plt.show()\n",
        "  plt.imsave('img%02d.png' % i, gen_imgs[i,:,:,0])"
      ],
      "execution_count": 0,
      "outputs": [
        {
          "output_type": "display_data",
          "data": {
            "image/png": "[encoded data removed]",
            "text/plain": [
              "<Figure size 576x396 with 1 Axes>"
            ]
          },
          "metadata": {
            "tags": []
          }
        },
        {
          "output_type": "display_data",
          "data": {
            "image/png": "[encoded data removed]",
            "text/plain": [
              "<Figure size 576x396 with 1 Axes>"
            ]
          },
          "metadata": {
            "tags": []
          }
        },
        {
          "output_type": "display_data",
          "data": {
            "image/png": "[encoded data removed]",
            "text/plain": [
              "<Figure size 576x396 with 1 Axes>"
            ]
          },
          "metadata": {
            "tags": []
          }
        },
        {
          "output_type": "display_data",
          "data": {
            "image/png": "[encoded data removed]",
            "text/plain": [
              "<Figure size 576x396 with 1 Axes>"
            ]
          },
          "metadata": {
            "tags": []
          }
        }
      ]
    },
    {
      "metadata": {
        "id": "hD3V9-Vo5BxU",
        "colab_type": "text"
      },
      "cell_type": "markdown",
      "source": [
        "# 3.2 Deep Convolutional GAN (DCGAN)"
      ]
    },
    {
      "metadata": {
        "id": "CJ6VcjYX5G48",
        "colab_type": "code",
        "outputId": "72b316ee-4ff4-461f-b36d-f546cbd7212f",
        "colab": {
          "base_uri": "https://localhost:8080/",
          "height": 382
        }
      },
      "cell_type": "code",
      "source": [
        "G = Sequential()\n",
        "G.add(Dense(7*7*128, input_shape=(100,)))\n",
        "G.add(Activation(\"relu\"))\n",
        "G.add(Reshape((7, 7, 128)))\n",
        "G.add(Conv2DTranspose(64, kernel_size=(5, 5), strides=(2, 2), padding=\"same\")) # The output shape is (14x14x64)\n",
        "G.add(Conv2DTranspose(32, kernel_size=(5, 5), strides=(2, 2), padding=\"same\")) # The output shape is (28x28x32)\n",
        "G.add(Conv2DTranspose(1, kernel_size=(5, 5), strides=(1, 1), padding=\"same\"))  # The output shape is (28x28x1)\n",
        "G.add(Activation(\"tanh\"))\n",
        "G.summary()\n",
        "G.add(Reshape((28, 28, 1))) # The output has the shape of an image"
      ],
      "execution_count": 0,
      "outputs": [
        {
          "output_type": "stream",
          "text": [
            "_________________________________________________________________\n",
            "Layer (type)                 Output Shape              Param #   \n",
            "=================================================================\n",
            "dense_59 (Dense)             (None, 6272)              633472    \n",
            "_________________________________________________________________\n",
            "activation_105 (Activation)  (None, 6272)              0         \n",
            "_________________________________________________________________\n",
            "reshape_22 (Reshape)         (None, 7, 7, 128)         0         \n",
            "_________________________________________________________________\n",
            "conv2d_transpose_22 (Conv2DT (None, 14, 14, 64)        204864    \n",
            "_________________________________________________________________\n",
            "conv2d_transpose_23 (Conv2DT (None, 28, 28, 32)        51232     \n",
            "_________________________________________________________________\n",
            "conv2d_transpose_24 (Conv2DT (None, 28, 28, 1)         801       \n",
            "_________________________________________________________________\n",
            "activation_106 (Activation)  (None, 28, 28, 1)         0         \n",
            "=================================================================\n",
            "Total params: 890,369\n",
            "Trainable params: 890,369\n",
            "Non-trainable params: 0\n",
            "_________________________________________________________________\n"
          ],
          "name": "stdout"
        }
      ]
    },
    {
      "metadata": {
        "id": "Fd-gGL1IZ1BG",
        "colab_type": "code",
        "outputId": "67745c72-7684-4825-d695-b854ec35b5db",
        "colab": {
          "base_uri": "https://localhost:8080/",
          "height": 243
        }
      },
      "cell_type": "code",
      "source": [
        "G = Sequential()\n",
        "G.add(Dense(7*7*128, input_shape=(100,)))\n",
        "G.add(Activation(\"relu\"))\n",
        "G.add(Reshape((7, 7, 128)))\n",
        "G.add(Conv2DTranspose(64, kernel_size=(5, 5), strides=(2, 2), padding=\"same\")) # The output shape is (14x14x64)\n",
        "G.add(Conv2DTranspose(32, kernel_size=(5, 5), strides=(2, 2), padding=\"same\")) # The output shape is (28x28x32)\n",
        "G.add(Conv2DTranspose(1, kernel_size=(5, 5), strides=(1, 1), padding=\"same\"))  # The output shape is (28x28x1)\n",
        "G.add(Activation(\"tanh\"))\n",
        "G.add(Reshape((28, 28, 1))) # The output has the shape of an image\n",
        "\n",
        "\n",
        "\n",
        "D = Sequential()\n",
        "# Layer 1\n",
        "D.add(Conv2D(32, (5, 5), strides=(2, 2), padding=\"same\", input_shape=(28, 28, 1)))\n",
        "D.add(Activation(\"relu\"))\n",
        "# Layer 2\n",
        "D.add(Conv2D(64, (5, 5), strides=(2, 2), padding=\"same\"))\n",
        "D.add(Activation(\"relu\"))\n",
        "# Layer 3\n",
        "D.add(Conv2D(128, (5, 5), strides=(2, 2), padding=\"same\"))\n",
        "D.add(Activation(\"relu\"))\n",
        "# Layer 4\n",
        "D.add(Flatten())\n",
        "D.add(Dense(128))\n",
        "D.add(Activation(\"relu\"))\n",
        "# Layer 5\n",
        "D.add(Dense(1))\n",
        "D.add(Activation(\"sigmoid\"))\n",
        "\n",
        "\n",
        "\n",
        "D.compile(loss=\"binary_crossentropy\", optimizer=Adam(0.0001, 0.5))\n",
        "D.trainable = False\n",
        "gan_input = Input(shape=(100,))\n",
        "gan_output = D(G(gan_input))\n",
        "gan = Model(gan_input, gan_output) # This is the combined model\n",
        "gan.compile(loss=\"binary_crossentropy\", optimizer=Adam(0.0001, 0.5))\n",
        "gan.summary()\n",
        "\n",
        "\n",
        "# The output shape is (14x14x64)"
      ],
      "execution_count": 0,
      "outputs": [
        {
          "output_type": "stream",
          "text": [
            "_________________________________________________________________\n",
            "Layer (type)                 Output Shape              Param #   \n",
            "=================================================================\n",
            "input_7 (InputLayer)         (None, 100)               0         \n",
            "_________________________________________________________________\n",
            "sequential_15 (Sequential)   (None, 28, 28, 1)         890369    \n",
            "_________________________________________________________________\n",
            "sequential_16 (Sequential)   (None, 1)                 519425    \n",
            "=================================================================\n",
            "Total params: 1,409,794\n",
            "Trainable params: 890,369\n",
            "Non-trainable params: 519,425\n",
            "_________________________________________________________________\n"
          ],
          "name": "stdout"
        }
      ]
    },
    {
      "metadata": {
        "id": "cNgbdGj6Zsxs",
        "colab_type": "code",
        "outputId": "23d9969b-98de-4001-e556-a294a868b854",
        "colab": {
          "base_uri": "https://localhost:8080/",
          "height": 364
        }
      },
      "cell_type": "code",
      "source": [
        "batch_size = 64\n",
        "x_train_c = x_train[np.where(y_train == 4)[0]] # Lets train only for numbers 4\n",
        "num_batches = int(len(x_train_c) / batch_size)\n",
        "for epoch in range(20):\n",
        "  for batch in range(num_batches):\n",
        "    # Select a random batch from x_train_c\n",
        "    x = x_train_c[np.random.randint(0, len(x_train_c), size=batch_size)]\n",
        "    # Gaussian noise for the generator model\n",
        "    noise = np.random.normal(0, 1, size=[batch_size, 100])\n",
        "    # Generate fake images\n",
        "    gen_imgs = G.predict(noise)\n",
        "    disc_data = np.concatenate([x, gen_imgs])\n",
        "    # True images are labeled 1, false ones are 0\n",
        "    labels = [0.9]*batch_size + [0]*batch_size\n",
        "    D.trainable = True\n",
        "    dloss = D.train_on_batch(disc_data, labels)\n",
        "    D.trainable = False # Freeze the discriminator\n",
        "    gloss = gan.train_on_batch(noise, [1]*batch_size)\n",
        "    print (\"\\b\"*79 + \"\\r\", end=\"\")\n",
        "    print (\"Epoch %d, batch %d/%d: \" % (epoch+1, batch, num_batches) + \\\n",
        "    \" gloss=%.4f, dloss=%.4f\" % (gloss, dloss), end=\"\")\n",
        "  print (\"\")\n",
        "# Save the weights after training\n",
        "G.save_weights(\"./gen_weights.hdf5\")\n",
        "D.save_weights(\"./disc_weights.hdf5\")"
      ],
      "execution_count": 0,
      "outputs": [
        {
          "output_type": "stream",
          "text": [
            "Epoch 1, batch 90/91:  gloss=0.7440, dloss=0.5191\n",
            "Epoch 2, batch 90/91:  gloss=1.3253, dloss=0.4366\n",
            "Epoch 3, batch 90/91:  gloss=1.9858, dloss=0.4793\n",
            "Epoch 4, batch 90/91:  gloss=1.5010, dloss=0.4581\n",
            "Epoch 5, batch 90/91:  gloss=1.5792, dloss=0.4295\n",
            "Epoch 6, batch 90/91:  gloss=1.8029, dloss=0.4504\n",
            "Epoch 7, batch 90/91:  gloss=2.1710, dloss=0.4832\n",
            "Epoch 8, batch 90/91:  gloss=1.1138, dloss=0.5670\n",
            "Epoch 9, batch 90/91:  gloss=1.4562, dloss=0.4755\n",
            "Epoch 10, batch 90/91:  gloss=1.3141, dloss=0.5335\n",
            "Epoch 11, batch 90/91:  gloss=1.2952, dloss=0.4804\n",
            "Epoch 12, batch 90/91:  gloss=1.1170, dloss=0.5253\n",
            "Epoch 13, batch 90/91:  gloss=1.3259, dloss=0.5725\n",
            "Epoch 14, batch 90/91:  gloss=1.1077, dloss=0.5150\n",
            "Epoch 15, batch 90/91:  gloss=1.1596, dloss=0.5311\n",
            "Epoch 16, batch 90/91:  gloss=1.7576, dloss=0.5925\n",
            "Epoch 17, batch 90/91:  gloss=1.3650, dloss=0.5324\n",
            "Epoch 18, batch 90/91:  gloss=1.2411, dloss=0.5498\n",
            "Epoch 19, batch 90/91:  gloss=0.9576, dloss=0.5392\n",
            "Epoch 20, batch 90/91:  gloss=1.0698, dloss=0.5319\n"
          ],
          "name": "stdout"
        }
      ]
    },
    {
      "metadata": {
        "id": "M0hTW7TrZzZy",
        "colab_type": "code",
        "outputId": "eb5a34a9-cf4f-47c3-e998-8a82b311dc50",
        "colab": {
          "base_uri": "https://localhost:8080/",
          "height": 1337
        }
      },
      "cell_type": "code",
      "source": [
        "noise = np.random.normal(0, 1, size=[4, 100])\n",
        "gen_imgs = G.predict(noise)\n",
        "for i in range(len(noise)):\n",
        "  plt.imshow((gen_imgs[i,:,:,0] + 1) / 2)\n",
        "  plt.show()\n",
        "  plt.imsave('img%02d.png' % i, gen_imgs[i,:,:,0])"
      ],
      "execution_count": 0,
      "outputs": [
        {
          "output_type": "display_data",
          "data": {
            "image/png": "[encoded data removed]",
            "text/plain": [
              "<Figure size 576x396 with 1 Axes>"
            ]
          },
          "metadata": {
            "tags": []
          }
        },
        {
          "output_type": "display_data",
          "data": {
            "image/png": "[encoded data removed]",
            "text/plain": [
              "<Figure size 576x396 with 1 Axes>"
            ]
          },
          "metadata": {
            "tags": []
          }
        },
        {
          "output_type": "display_data",
          "data": {
            "image/png": "[encoded data removed]",
            "text/plain": [
              "<Figure size 576x396 with 1 Axes>"
            ]
          },
          "metadata": {
            "tags": []
          }
        },
        {
          "output_type": "display_data",
          "data": {
            "image/png": "[encoded data removed]",
            "text/plain": [
              "<Figure size 576x396 with 1 Axes>"
            ]
          },
          "metadata": {
            "tags": []
          }
        }
      ]
    },
    {
      "metadata": {
        "id": "YjSUqADfdAwQ",
        "colab_type": "code",
        "outputId": "22501218-e0b2-485b-9ddf-c729f05bb612",
        "colab": {
          "base_uri": "https://localhost:8080/",
          "height": 364
        }
      },
      "cell_type": "code",
      "source": [
        "batch_size = 64\n",
        "x_train_c = x_train # We train with the full dataset\n",
        "num_batches = int(len(x_train_c) / batch_size)\n",
        "for epoch in range(20):\n",
        "  for batch in range(num_batches):\n",
        "    # Select a random batch from x_train_c\n",
        "    x = x_train_c[np.random.randint(0, len(x_train_c), size=batch_size)]\n",
        "    # Gaussian noise for the generator model\n",
        "    noise = np.random.normal(0, 1, size=[batch_size, 100])\n",
        "    # Generate fake images\n",
        "    gen_imgs = G.predict(noise)\n",
        "    disc_data = np.concatenate([x, gen_imgs])\n",
        "    # True images are labeled 1, false ones are 0\n",
        "    labels = [0.9]*batch_size + [0]*batch_size\n",
        "    D.trainable = True\n",
        "    dloss = D.train_on_batch(disc_data, labels)\n",
        "    D.trainable = False # Freeze the discriminator\n",
        "    gloss = gan.train_on_batch(noise, [1]*batch_size)\n",
        "    print (\"\\b\"*79 + \"\\r\", end=\"\")\n",
        "    print (\"Epoch %d, batch %d/%d: \" % (epoch+1, batch, num_batches) + \\\n",
        "    \" gloss=%.4f, dloss=%.4f\" % (gloss, dloss), end=\"\")\n",
        "  print (\"\")\n",
        "# Save the weights after training\n",
        "G.save_weights(\"./gen_weights.hdf5\")\n",
        "D.save_weights(\"./disc_weights.hdf5\")"
      ],
      "execution_count": 0,
      "outputs": [
        {
          "output_type": "stream",
          "text": [
            "Epoch 1, batch 936/937:  gloss=2.4523, dloss=0.4032\n",
            "Epoch 2, batch 936/937:  gloss=1.8215, dloss=0.3559\n",
            "Epoch 3, batch 936/937:  gloss=2.2926, dloss=0.3548\n",
            "Epoch 4, batch 936/937:  gloss=2.8613, dloss=0.3931\n",
            "Epoch 5, batch 936/937:  gloss=2.8215, dloss=0.3555\n",
            "Epoch 6, batch 936/937:  gloss=2.4630, dloss=0.3248\n",
            "Epoch 7, batch 936/937:  gloss=2.2213, dloss=0.3841\n",
            "Epoch 8, batch 936/937:  gloss=2.6284, dloss=0.3118\n",
            "Epoch 9, batch 936/937:  gloss=3.0585, dloss=0.3061\n",
            "Epoch 10, batch 936/937:  gloss=2.8607, dloss=0.3518\n",
            "Epoch 11, batch 936/937:  gloss=2.1704, dloss=0.3489\n",
            "Epoch 12, batch 936/937:  gloss=3.7362, dloss=0.3433\n",
            "Epoch 13, batch 936/937:  gloss=4.0969, dloss=0.2588\n",
            "Epoch 14, batch 936/937:  gloss=3.2717, dloss=0.2839\n",
            "Epoch 15, batch 936/937:  gloss=4.0627, dloss=0.2452\n",
            "Epoch 16, batch 936/937:  gloss=3.1943, dloss=0.2881\n",
            "Epoch 17, batch 936/937:  gloss=3.5004, dloss=0.2787\n",
            "Epoch 18, batch 936/937:  gloss=3.9209, dloss=0.3303\n",
            "Epoch 19, batch 936/937:  gloss=4.1509, dloss=0.2553\n",
            "Epoch 20, batch 936/937:  gloss=3.6851, dloss=0.2891\n"
          ],
          "name": "stdout"
        }
      ]
    },
    {
      "metadata": {
        "id": "mzZj5ba7dVzs",
        "colab_type": "code",
        "outputId": "ed93a13b-5601-4b79-e1f8-2d3b0fe156e7",
        "colab": {
          "base_uri": "https://localhost:8080/",
          "height": 1337
        }
      },
      "cell_type": "code",
      "source": [
        "noise = np.random.normal(0, 1, size=[4, 100])\n",
        "gen_imgs = G.predict(noise)\n",
        "for i in range(len(noise)):\n",
        "  plt.imshow((gen_imgs[i,:,:,0] + 1) / 2)\n",
        "  plt.show()\n",
        "  plt.imsave('img%02d.png' % i, gen_imgs[i,:,:,0])"
      ],
      "execution_count": 0,
      "outputs": [
        {
          "output_type": "display_data",
          "data": {
            "image/png": "[encoded data removed]",
            "text/plain": [
              "<Figure size 576x396 with 1 Axes>"
            ]
          },
          "metadata": {
            "tags": []
          }
        },
        {
          "output_type": "display_data",
          "data": {
            "image/png": "[encoded data removed]",
            "text/plain": [
              "<Figure size 576x396 with 1 Axes>"
            ]
          },
          "metadata": {
            "tags": []
          }
        },
        {
          "output_type": "display_data",
          "data": {
            "image/png": "[encoded data removed]",
            "text/plain": [
              "<Figure size 576x396 with 1 Axes>"
            ]
          },
          "metadata": {
            "tags": []
          }
        },
        {
          "output_type": "display_data",
          "data": {
            "image/png": "[encoded data removed]",
            "text/plain": [
              "<Figure size 576x396 with 1 Axes>"
            ]
          },
          "metadata": {
            "tags": []
          }
        }
      ]
    },
    {
      "metadata": {
        "id": "OMbeH4ptb_Cu",
        "colab_type": "text"
      },
      "cell_type": "markdown",
      "source": [
        "# 3.3 CIFAR10"
      ]
    },
    {
      "metadata": {
        "id": "1_0KcfeAdjZ-",
        "colab_type": "code",
        "colab": {}
      },
      "cell_type": "code",
      "source": [
        "from keras.datasets import cifar10"
      ],
      "execution_count": 0,
      "outputs": []
    },
    {
      "metadata": {
        "id": "ZWrXt0XscHTQ",
        "colab_type": "code",
        "outputId": "299c6034-ec7d-4440-c062-7577acad8853",
        "colab": {
          "base_uri": "https://localhost:8080/",
          "height": 451
        }
      },
      "cell_type": "code",
      "source": [
        "# Load the CIFAR10 dataset\n",
        "(x_train2, y_train2), (x_test2, y_test2) = cifar10.load_data()\n",
        "# Image normalization\n",
        "x_train2 = x_train2 / 255\n",
        "x_test2 = x_test2 / 255\n",
        "# Labels to categorical (one hot)\n",
        "y_train_cat2 = to_categorical(y_train2, num_classes=10)\n",
        "y_test_cat2 = to_categorical(y_test2, num_classes=10)\n",
        "# Display dataset info\n",
        "print (\"Train set shape:\", x_train2.shape)\n",
        "print (\"Test set shape:\", x_test2.shape)\n",
        "print (\"Train categorical labels shape:\", y_train_cat2.shape)\n",
        "print (\"Test categorical labels shape:\", y_test_cat2.shape)\n",
        "# Show one example\n",
        "print (y_test2[1], y_test_cat2[1])\n",
        "plt.imshow(x_test2[1,:,:,:])"
      ],
      "execution_count": 0,
      "outputs": [
        {
          "output_type": "stream",
          "text": [
            "Train set shape: (50000, 32, 32, 3)\n",
            "Test set shape: (10000, 32, 32, 3)\n",
            "Train categorical labels shape: (50000, 10)\n",
            "Test categorical labels shape: (10000, 10)\n",
            "[8] [0. 0. 0. 0. 0. 0. 0. 0. 1. 0.]\n"
          ],
          "name": "stdout"
        },
        {
          "output_type": "execute_result",
          "data": {
            "text/plain": [
              "<matplotlib.image.AxesImage at 0x7f3336291518>"
            ]
          },
          "metadata": {
            "tags": []
          },
          "execution_count": 59
        },
        {
          "output_type": "display_data",
          "data": {
            "image/png": "[encoded data removed]",
            "text/plain": [
              "<Figure size 576x396 with 1 Axes>"
            ]
          },
          "metadata": {
            "tags": []
          }
        }
      ]
    },
    {
      "metadata": {
        "id": "8Wv7KEOSiHca",
        "colab_type": "code",
        "outputId": "ed72a554-46ae-47a9-8da2-def3c8d1ba9f",
        "colab": {
          "base_uri": "https://localhost:8080/",
          "height": 243
        }
      },
      "cell_type": "code",
      "source": [
        "G = Sequential()\n",
        "G.add(Dense(8*8*384, input_shape=(100,)))\n",
        "G.add(Activation(\"relu\"))\n",
        "G.add(Reshape((8, 8, 384)))\n",
        "G.add(Conv2DTranspose(192, kernel_size=(5, 5), strides=(2, 2), padding=\"same\")) # The output shape is (16x16x64)\n",
        "G.add(Conv2DTranspose(96, kernel_size=(5, 5), strides=(2, 2), padding=\"same\")) # The output shape is (32x32x32)\n",
        "G.add(Conv2DTranspose(3, kernel_size=(5, 5), strides=(1, 1), padding=\"same\"))  # The output shape is (32x32x3)\n",
        "G.add(Activation(\"tanh\"))\n",
        "G.add(Reshape((32, 32, 3))) # The output has the shape of an image\n",
        "\n",
        "\n",
        "\n",
        "D = Sequential()\n",
        "# Layer 1\n",
        "D.add(Conv2D(96, (5, 5), strides=(2, 2), padding=\"same\", input_shape=(32, 32, 3)))\n",
        "D.add(Activation(\"relu\"))\n",
        "# Layer 2\n",
        "D.add(Conv2D(192, (5, 5), strides=(2, 2), padding=\"same\"))\n",
        "D.add(Activation(\"relu\"))\n",
        "# Layer 3\n",
        "D.add(Conv2D(384, (5, 5), strides=(2, 2), padding=\"same\"))\n",
        "D.add(Activation(\"relu\"))\n",
        "# Layer 4\n",
        "D.add(Flatten())\n",
        "D.add(Dense(384))\n",
        "D.add(Activation(\"relu\"))\n",
        "# Layer 5\n",
        "D.add(Dense(1))\n",
        "D.add(Activation(\"sigmoid\"))\n",
        "\n",
        "\n",
        "\n",
        "D.compile(loss=\"binary_crossentropy\", optimizer=Adam(0.0001, 0.5))\n",
        "D.trainable = False\n",
        "gan_input = Input(shape=(100,))\n",
        "gan_output = D(G(gan_input))\n",
        "gan = Model(gan_input, gan_output) # This is the combined model\n",
        "gan.compile(loss=\"binary_crossentropy\", optimizer=Adam(0.0001, 0.5))\n",
        "gan.summary()\n",
        "\n",
        "\n",
        "# The output shape is (14x14x64)"
      ],
      "execution_count": 0,
      "outputs": [
        {
          "output_type": "stream",
          "text": [
            "_________________________________________________________________\n",
            "Layer (type)                 Output Shape              Param #   \n",
            "=================================================================\n",
            "input_10 (InputLayer)        (None, 100)               0         \n",
            "_________________________________________________________________\n",
            "sequential_21 (Sequential)   (None, 32, 32, 3)         4793667   \n",
            "_________________________________________________________________\n",
            "sequential_22 (Sequential)   (None, 1)                 4671937   \n",
            "=================================================================\n",
            "Total params: 9,465,604\n",
            "Trainable params: 4,793,667\n",
            "Non-trainable params: 4,671,937\n",
            "_________________________________________________________________\n"
          ],
          "name": "stdout"
        }
      ]
    },
    {
      "metadata": {
        "id": "Cqi8p19fi-4i",
        "colab_type": "code",
        "outputId": "5e360a6d-607e-40d0-8c7a-72060c462d32",
        "colab": {
          "base_uri": "https://localhost:8080/",
          "height": 364
        }
      },
      "cell_type": "code",
      "source": [
        "batch_size = 64\n",
        "x_train_c = x_train2[np.where(y_train2 == 2)[0]] \n",
        "num_batches = int(len(x_train_c) / batch_size)\n",
        "for epoch in range(20):\n",
        "  for batch in range(num_batches):\n",
        "    # Select a random batch from x_train_c\n",
        "    x = x_train_c[np.random.randint(0, len(x_train_c), size=batch_size)]\n",
        "    # Gaussian noise for the generator model\n",
        "    noise = np.random.normal(0, 1, size=[batch_size, 100])\n",
        "    # Generate fake images\n",
        "    gen_imgs = G.predict(noise)\n",
        "    disc_data = np.concatenate([x, gen_imgs])\n",
        "    # True images are labeled 1, false ones are 0\n",
        "    labels = [0.9]*batch_size + [0]*batch_size\n",
        "    D.trainable = True\n",
        "    dloss = D.train_on_batch(disc_data, labels)\n",
        "    D.trainable = False # Freeze the discriminator\n",
        "    gloss = gan.train_on_batch(noise, [1]*batch_size)\n",
        "    print (\"\\b\"*79 + \"\\r\", end=\"\")\n",
        "    print (\"Epoch %d, batch %d/%d: \" % (epoch+1, batch, num_batches) + \\\n",
        "    \" gloss=%.4f, dloss=%.4f\" % (gloss, dloss), end=\"\")\n",
        "  print (\"\")\n",
        "# Save the weights after training\n",
        "G.save_weights(\"./gen_weights.hdf5\")\n",
        "D.save_weights(\"./disc_weights.hdf5\")"
      ],
      "execution_count": 0,
      "outputs": [
        {
          "output_type": "stream",
          "text": [
            "Epoch 1, batch 77/78:  gloss=3.3031, dloss=0.4794\n",
            "Epoch 2, batch 77/78:  gloss=2.1730, dloss=0.3865\n",
            "Epoch 3, batch 77/78:  gloss=2.5789, dloss=0.3562\n",
            "Epoch 4, batch 77/78:  gloss=2.6279, dloss=0.2935\n",
            "Epoch 5, batch 77/78:  gloss=2.5537, dloss=0.3031\n",
            "Epoch 6, batch 77/78:  gloss=1.9122, dloss=0.3985\n",
            "Epoch 7, batch 77/78:  gloss=2.1101, dloss=0.3879\n",
            "Epoch 8, batch 77/78:  gloss=2.5958, dloss=0.3024\n",
            "Epoch 9, batch 77/78:  gloss=2.9859, dloss=0.3015\n",
            "Epoch 10, batch 77/78:  gloss=2.7220, dloss=0.2782\n",
            "Epoch 11, batch 77/78:  gloss=2.4821, dloss=0.3145\n",
            "Epoch 12, batch 77/78:  gloss=3.6998, dloss=0.3028\n",
            "Epoch 13, batch 77/78:  gloss=2.8461, dloss=0.3073\n",
            "Epoch 14, batch 77/78:  gloss=3.2179, dloss=0.2895\n",
            "Epoch 15, batch 77/78:  gloss=2.4809, dloss=0.2978\n",
            "Epoch 16, batch 77/78:  gloss=2.6528, dloss=0.3180\n",
            "Epoch 17, batch 77/78:  gloss=3.0901, dloss=0.2580\n",
            "Epoch 18, batch 77/78:  gloss=2.3480, dloss=0.2902\n",
            "Epoch 19, batch 77/78:  gloss=2.5982, dloss=0.2928\n",
            "Epoch 20, batch 77/78:  gloss=3.1367, dloss=0.2736\n"
          ],
          "name": "stdout"
        }
      ]
    },
    {
      "metadata": {
        "id": "32slHbpvjSpc",
        "colab_type": "code",
        "outputId": "f17220a9-06d7-43fc-cae8-df231976fb5c",
        "colab": {
          "base_uri": "https://localhost:8080/",
          "height": 1372
        }
      },
      "cell_type": "code",
      "source": [
        "noise = np.random.normal(0, 1, size=[4, 100])\n",
        "gen_imgs = G.predict(noise)\n",
        "for i in range(len(noise)):\n",
        "  plt.imshow((gen_imgs[i,:,:,:] + 1) / 2)\n",
        "  plt.show()\n",
        "  plt.imsave('img%02d.png' % i, gen_imgs[i,:,:,:])"
      ],
      "execution_count": 0,
      "outputs": [
        {
          "output_type": "display_data",
          "data": {
            "image/png": "[encoded data removed]",
            "text/plain": [
              "<Figure size 576x396 with 1 Axes>"
            ]
          },
          "metadata": {
            "tags": []
          }
        },
        {
          "output_type": "display_data",
          "data": {
            "image/png": "[encoded data removed]",
            "text/plain": [
              "<Figure size 576x396 with 1 Axes>"
            ]
          },
          "metadata": {
            "tags": []
          }
        },
        {
          "output_type": "stream",
          "text": [
            "Clipping input data to the valid range for imshow with RGB data ([0..1] for floats or [0..255] for integers).\n"
          ],
          "name": "stderr"
        },
        {
          "output_type": "display_data",
          "data": {
            "image/png": "[encoded data removed]",
            "text/plain": [
              "<Figure size 576x396 with 1 Axes>"
            ]
          },
          "metadata": {
            "tags": []
          }
        },
        {
          "output_type": "display_data",
          "data": {
            "image/png": "[encoded data removed]",
            "text/plain": [
              "<Figure size 576x396 with 1 Axes>"
            ]
          },
          "metadata": {
            "tags": []
          }
        },
        {
          "output_type": "stream",
          "text": [
            "Clipping input data to the valid range for imshow with RGB data ([0..1] for floats or [0..255] for integers).\n"
          ],
          "name": "stderr"
        }
      ]
    }
  ]
}