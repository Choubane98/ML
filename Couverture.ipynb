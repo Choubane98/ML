{
 "cells": [
  {
   "cell_type": "code",
   "execution_count": 1,
   "metadata": {},
   "outputs": [
    {
     "name": "stderr",
     "output_type": "stream",
     "text": [
      "Using TensorFlow backend.\n"
     ]
    }
   ],
   "source": [
    "import os\n",
    "\n",
    "import matplotlib.pyplot as plt\n",
    "from matplotlib.pyplot import imread, imshow\n",
    "from PIL import Image\n",
    "\n",
    "import numpy as np\n",
    "import math\n",
    "\n",
    "import tensorflow as tf\n",
    "import keras\n",
    "from keras.models import Sequential, Model  # V2 is tensorflow.keras.xxxx, V1 is keras.xxx\n",
    "from keras.layers import Conv2D, MaxPooling2D, Dropout, Flatten, Dense, Conv2DTranspose, Reshape, Activation, Input, UpSampling2D, BatchNormalization\n",
    "from keras.optimizers import Adam, Adadelta, rmsprop, SGD\n",
    "from keras.models import load_model\n",
    "from keras.utils.np_utils import to_categorical \n",
    "from sklearn.model_selection import train_test_split\n",
    "from keras.preprocessing.image import ImageDataGenerator, array_to_img, img_to_array, load_img\n",
    "from keras.callbacks import EarlyStopping, ModelCheckpoint, ReduceLROnPlateau\n",
    "import pickle\n"
   ]
  },
  {
   "cell_type": "code",
   "execution_count": 53,
   "metadata": {},
   "outputs": [
    {
     "name": "stdout",
     "output_type": "stream",
     "text": [
      "shape of image: (48, 48, 3)\n",
      "X shape: (6912,)\n"
     ]
    },
    {
     "data": {
      "image/png": "[encoded data removed]",
      "text/plain": [
       "<Figure size 432x288 with 1 Axes>"
      ]
     },
     "metadata": {
      "needs_background": "light"
     },
     "output_type": "display_data"
    }
   ],
   "source": [
    "img = Image.open('C:\\\\Users\\\\T0241175\\\\Desktop\\\\image\\\\imageapplication.png')  # this is a PIL image\n",
    "img = img.convert(mode='RGB')\n",
    "img = img.resize((48,48))\n",
    "X = img_to_array(img)/255  # this is a Numpy array + normalization\n",
    "X=np.array(X)\n",
    "print(\"shape of image: \"  + str(X.shape))\n",
    "\n",
    "imshow(array_to_img(X))\n",
    "\n",
    "X=X.flatten()\n",
    "print(\"X shape: \" + str(X.shape))"
   ]
  },
  {
   "cell_type": "code",
   "execution_count": 3,
   "metadata": {},
   "outputs": [],
   "source": [
    "def initialize_parameters_deep(layer_dims):\n",
    "\n",
    "    np.random.seed(3)\n",
    "    parameters = {}\n",
    "    L = len(layer_dims)            # number of layers in the network\n",
    "\n",
    "    for l in range(1, L):\n",
    "        parameters['W' + str(l)] = np.random.randn(layer_dims[l], layer_dims[l-1]) * 0.01\n",
    "        parameters['b' + str(l)] = np.zeros((layer_dims[l],))\n",
    "        \n",
    "      \n",
    "    return parameters"
   ]
  },
  {
   "cell_type": "code",
   "execution_count": 9,
   "metadata": {},
   "outputs": [],
   "source": [
    "def linear_forward(X, W1, b1, W2, b2):\n",
    "    \n",
    "    I = np.dot(W1,X) #hidden layer\n",
    "    H=I\n",
    "    H[H<0] = 0 #relu \n",
    "    Z =np.dot(W2,H) + b2 #output layer\n",
    "    Y=Z\n",
    "    Y[Y<0] = 0 #relu\n",
    "     \n",
    "    return I, H, Z, Y"
   ]
  },
  {
   "cell_type": "code",
   "execution_count": 54,
   "metadata": {},
   "outputs": [],
   "source": [
    "def backpropagation(X, W1, b1, W2, b2, H, I, Z, Y, y_true):\n",
    "    dW1=np.zeros((512,6912))\n",
    "    db1=np.zeros((512,))\n",
    "    dW2=np.zeros((16,512))\n",
    "    db2=np.zeros((16,))\n",
    "    dC=np.zeros((512,))\n",
    "    \n",
    "    for i in range(16):        \n",
    "        for j in range(512):\n",
    "            if(Z[i]>=0):\n",
    "                dW2[i][j]=H[j]*1*(2*(Y[i]-y_true[i]))\n",
    "            else:\n",
    "                dW2[i][j]=0\n",
    "                \n",
    "    for i in range(16):\n",
    "        if(Z[i]>=0):\n",
    "            db2[i]=1*1*(2*(Y[i]-y_true[i]))\n",
    "        else:\n",
    "            db2[i]=0\n",
    "    \n",
    "    for i in range(512):\n",
    "        for k in range(16):\n",
    "            if(Z[k]>=0):\n",
    "                dC[i]=dC[i]+W2[k][i]*1*(2*(Y[k]-y_true[k]))\n",
    "            else:\n",
    "                dC[i]=dC[i]+0\n",
    "                \n",
    "    for i in range(512):\n",
    "        for j in range(6912):\n",
    "            if(I[i]>=0):\n",
    "                dW1[i][j]=X[j]*1*dC[i]\n",
    "            else:\n",
    "                dW1[i][j]=0\n",
    "\n",
    "    for i in range(512):\n",
    "        if(I[i]>=0):\n",
    "            db1[i]=1*1*dC[i]\n",
    "        else:\n",
    "            db1[i]=0\n",
    "    \n",
    "    return db1, dW1, db2 , dW2"
   ]
  },
  {
   "cell_type": "code",
   "execution_count": 55,
   "metadata": {},
   "outputs": [],
   "source": [
    "def update_parameters(b1, b2, W1, W2, db1, dW1, db2 , dW2, learning_rate):\n",
    "    b1-= learning_rate*db1\n",
    "    b2-= learning_rate*db2\n",
    "    W1-= learning_rate*dW1\n",
    "    W2-= learning_rate*dW2\n",
    "    \n",
    "    return b1, b2, W1, W2 "
   ]
  },
  {
   "cell_type": "code",
   "execution_count": null,
   "metadata": {},
   "outputs": [],
   "source": [
    "explore_start = 1.0            # exploration probability at start\n",
    "explore_stop = 0.01            # minimum exploration probability \n",
    "decay_rate = 0.01           # exponential decay rate for exploration prob"
   ]
  },
  {
   "cell_type": "code",
   "execution_count": 1,
   "metadata": {},
   "outputs": [],
   "source": [
    "def choix_action(decay_step, explore_start, explore_stop):\n",
    "    \n",
    "    exp_exp_tradeoff = np.random.rand()\n",
    "\n",
    "    explore_probability = explore_stop + (explore_start - explore_stop) * np.exp(-decay_rate * decay_step)\n",
    "\n",
    "    if explore_probability>exp_exp_tradeoff:\n",
    "        action=np.random.randint(16)\n",
    "    else:\n",
    "        action_centre=np.argmax(Y)\n",
    "\n",
    "        if  action_centre==0:\n",
    "            pas=np.random.randint(2)\n",
    "            if pas==0:\n",
    "                action=action_centre+1\n",
    "            else:\n",
    "                action=action_centre+4\n",
    "\n",
    "        if  action_centre==3:\n",
    "            pas=np.random.randint(2)\n",
    "            if pas==0:\n",
    "                action=action_centre-1\n",
    "            else:\n",
    "                action=action_centre+4\n",
    "\n",
    "        if  action_centre==12:\n",
    "            pas=np.random.randint(2)\n",
    "            if pas==0:\n",
    "                action=action_centre+1\n",
    "            else:\n",
    "                action=action_centre-4\n",
    "\n",
    "        if  action_centre==15:\n",
    "            pas=np.random.randint(2)\n",
    "            if pas==0:\n",
    "                action=action_centre-1\n",
    "            else:\n",
    "                action=action_centre-4\n",
    "\n",
    "        if  action_centre==4 or action_centre== 8:\n",
    "            pas=np.random.randint(3)\n",
    "            if pas==0:\n",
    "                action=action_centre+1\n",
    "            if pas==1:\n",
    "                action=action_centre-4\n",
    "            else:\n",
    "                action=action_centre+4\n",
    "\n",
    "        if  action_centre==7 or action_centre==11:\n",
    "            pas=np.random.randint(3)\n",
    "            if pas==0:\n",
    "                action=action_centre-1\n",
    "            if pas==1:\n",
    "                action=action_centre-4\n",
    "            else:\n",
    "                action=action_centre+4 \n",
    "\n",
    "        if  action_centre==1 or action_centre== 2:\n",
    "            pas=np.random.randint(3)\n",
    "            if pas==0:\n",
    "                action=action_centre-1\n",
    "            if pas==1:\n",
    "                action=action_centre+1\n",
    "            else:\n",
    "                action=action_centre+4 \n",
    "\n",
    "        if  action_centre==13 or action_centre== 14:\n",
    "            pas=np.random.randint(3)\n",
    "            if pas==0:\n",
    "                action=action_centre-1\n",
    "            if pas==1:\n",
    "                action=action_centre+1\n",
    "            else:\n",
    "                action=action_centre-4 \n",
    "        else:\n",
    "            pas=np.random.randint(4)\n",
    "            if pas==0:\n",
    "                action=action_centre-1\n",
    "            if pas==1:\n",
    "                action=action_centre+1\n",
    "            if pas==2:\n",
    "                action=action_centre-4 \n",
    "            else:\n",
    "                action=action_centre+4\n",
    "    decay_step+=1\n",
    "    \n",
    "    return action, decay_step, explore_probability"
   ]
  },
  {
   "cell_type": "markdown",
   "metadata": {},
   "source": [
    "<font color='red'>I) Initialisation des paramètres</font>"
   ]
  },
  {
   "cell_type": "code",
   "execution_count": 296,
   "metadata": {},
   "outputs": [],
   "source": [
    "parameters = initialize_parameters_deep([6912,512,16])\n",
    "W1=parameters[\"W1\"]\n",
    "W2=parameters[\"W2\"]\n",
    "b1=parameters[\"b1\"]\n",
    "b2=parameters[\"b2\"]\n",
    "\n",
    "decay_step=0"
   ]
  },
  {
   "cell_type": "markdown",
   "metadata": {},
   "source": [
    "<font color='red'>II) Premier Forward pass</font>"
   ]
  },
  {
   "cell_type": "code",
   "execution_count": 297,
   "metadata": {},
   "outputs": [
    {
     "name": "stdout",
     "output_type": "stream",
     "text": [
      "[0.0153075  0.13728852 0.06627249 0.04613827 0.         0.03642126\n",
      " 0.01226758 0.14663252 0.05057017 0.01015301 0.         0.00465984\n",
      " 0.09269618 0.09330825 0.02833448 0.        ]\n"
     ]
    }
   ],
   "source": [
    "I, H, Z, Y = linear_forward(X, W1, b1, W2, b2)\n",
    "print(Y)"
   ]
  },
  {
   "cell_type": "markdown",
   "metadata": {},
   "source": [
    "<font color='red'>III) Choix de l'action en tenant compte du compromis exploration/exploitation</font>"
   ]
  },
  {
   "cell_type": "code",
   "execution_count": 298,
   "metadata": {},
   "outputs": [
    {
     "name": "stdout",
     "output_type": "stream",
     "text": [
      "13\n",
      "1\n",
      "1.0\n"
     ]
    }
   ],
   "source": [
    "action, decay_step, explore_probability= choix_action(decay_step, explore_start, explore_stop)\n",
    "print(action)\n",
    "print(decay_step)\n",
    "print(explore_probability)"
   ]
  },
  {
   "cell_type": "markdown",
   "metadata": {},
   "source": [
    "<font color='red'>IV) Création de notre true label en fonction de la reward obtenue après avoir effectué l'action précédente</font>"
   ]
  },
  {
   "cell_type": "code",
   "execution_count": 300,
   "metadata": {},
   "outputs": [],
   "source": [
    "reward=8  #A compléter à chaque fois, reward=score*10"
   ]
  },
  {
   "cell_type": "code",
   "execution_count": 301,
   "metadata": {},
   "outputs": [
    {
     "name": "stdout",
     "output_type": "stream",
     "text": [
      "[1.53074973e-02 1.37288523e-01 6.62724876e-02 4.61382665e-02\n",
      " 0.00000000e+00 3.64212575e-02 1.22675775e-02 1.46632515e-01\n",
      " 5.05701693e-02 1.01530100e-02 0.00000000e+00 4.65983551e-03\n",
      " 9.26961816e-02 8.00000000e+00 2.83344788e-02 0.00000000e+00]\n"
     ]
    }
   ],
   "source": [
    "y_true=np.copy(Y)\n",
    "y_true[action]=reward #on modifie la Q value de l'action correspondante uniquement\n",
    "print(y_true)"
   ]
  },
  {
   "cell_type": "markdown",
   "metadata": {},
   "source": [
    "<font color='red'>V) Backward pass : backpropagation (calcul de gradients) et mise à jour des paramètres</font>"
   ]
  },
  {
   "cell_type": "code",
   "execution_count": 302,
   "metadata": {},
   "outputs": [],
   "source": [
    "for i in range(5):\n",
    "    \n",
    "    db1, dW1, db2 , dW2= backpropagation(X, W1, b1, W2, b2, H, I, Z, Y, y_true)\n",
    "\n",
    "    b1, b2, W1, W2 = update_parameters(b1, b2, W1, W2, db1, dW1, db2 , dW2, 0.001)  #0.005\n",
    "    \n",
    "    I, H, Z, Y = linear_forward(X, W1, b1, W2, b2)"
   ]
  },
  {
   "cell_type": "markdown",
   "metadata": {},
   "source": [
    "<font color='red'>VI) Enfin on refait un forward pass pour voir si le vecteur de sortie a bien été modifié comme on le souhaitait.</font>"
   ]
  },
  {
   "cell_type": "code",
   "execution_count": 303,
   "metadata": {},
   "outputs": [
    {
     "name": "stdout",
     "output_type": "stream",
     "text": [
      "[0.00000000e+00 1.97105795e-01 8.76136727e-02 5.31179211e-02\n",
      " 0.00000000e+00 6.10816027e-02 4.74152445e-02 2.30659055e-01\n",
      " 6.43099125e-02 1.14806517e-02 0.00000000e+00 3.17164462e-03\n",
      " 1.36645313e-01 8.00186944e+00 6.12287427e-02 0.00000000e+00]\n"
     ]
    }
   ],
   "source": [
    "I, H, Z, Y = linear_forward(X, W1, b1, W2, b2)\n",
    "print(Y)"
   ]
  },
  {
   "cell_type": "markdown",
   "metadata": {},
   "source": [
    "<font color='red'>VII) On répète l'opération à partir de III)</font>"
   ]
  }
 ],
 "metadata": {
  "kernelspec": {
   "display_name": "Python 3",
   "language": "python",
   "name": "python3"
  },
  "language_info": {
   "codemirror_mode": {
    "name": "ipython",
    "version": 3
   },
   "file_extension": ".py",
   "mimetype": "text/x-python",
   "name": "python",
   "nbconvert_exporter": "python",
   "pygments_lexer": "ipython3",
   "version": "3.7.6"
  }
 },
 "nbformat": 4,
 "nbformat_minor": 2
}
